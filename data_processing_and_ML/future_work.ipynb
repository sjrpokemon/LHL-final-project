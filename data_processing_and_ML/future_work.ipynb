{
 "cells": [
  {
   "cell_type": "markdown",
   "id": "25899deb-6a79-4988-bec8-59ca2ab4babc",
   "metadata": {},
   "source": [
    "4.1 Dataset\n",
    "\n",
    "For this project I will be using \"The Movies Dataset\" from Kaggle. \n",
    "\n",
    "The dataset comprises metadata for approximately 45,000 movies, including information such as cast, crew, director, keywords, budget, and country. Additionally, it includes ratings from around 270,000 users, totaling 26,000,000 movie ratings on a scale from 1 to 5.\n",
    "\n",
    "For this project, two main files were used: 'movies_metadata.csv,' representing metadata for all movies, and 'ratings_small.csv,' containing rating information from a subset of users.\n",
    "\n",
    "To gain insights into the overall rating distribution, the 'ratings_small.csv' file was analyzed using the matplotlib library. The resulting graph [Figure 1] indicated that 4.0 was the most common rating, followed by 3.0 and 5.0. The least common ratings were 0.5, with 1.5 and 2.5 following suit. The overall statistics, as obtained from the df.describe() method in the pandas library, are shown in Overall Statistics."
   ]
  },
  {
   "cell_type": "code",
   "execution_count": 33,
   "id": "de3582cf-5b94-45d6-8fcb-029f74edef2b",
   "metadata": {
    "tags": []
   },
   "outputs": [],
   "source": [
    "#Libraries for data manipulation\n",
    "import sys\n",
    "import pandas as pd\n",
    "import time\n",
    "import matplotlib.pyplot as plt\n",
    "import pylab as pl\n",
    "from mlxtend.frequent_patterns import apriori, association_rules\n",
    "from fuzzywuzzy import process \n",
    "from sklearn.neighbors import NearestNeighbors\n",
    "from scipy.sparse import csr_matrix\n",
    "from sklearn.cluster import KMeans\n",
    "from sklearn import preprocessing\n",
    "import seaborn as sns\n",
    "import pickle"
   ]
  },
  {
   "cell_type": "markdown",
   "id": "2312a66e-38e2-4462-a8f6-dcf1a5d34f99",
   "metadata": {},
   "source": [
    "## Loading the Data"
   ]
  },
  {
   "cell_type": "code",
   "execution_count": 34,
   "id": "ada52789-e2aa-475b-97d7-b52710d24f36",
   "metadata": {
    "tags": []
   },
   "outputs": [],
   "source": [
    "# Load the 'ratings_small.csv' file\n",
    "ratings_df = pd.read_csv('C:/Users/Owner/Desktop/LHL-final-project/uncleaned_csv/ratings_small.csv')\n",
    "\n",
    "# Load the 'movies_metadata.csv' file\n",
    "movies_df  = pd.read_csv('C:/Users/Owner/Desktop/LHL-final-project/uncleaned_csv/movies_metadata.csv', low_memory=False)"
   ]
  },
  {
   "cell_type": "code",
   "execution_count": 35,
   "id": "9d881cb4-5c06-4951-b9d9-bf65cfc141b9",
   "metadata": {
    "tags": []
   },
   "outputs": [
    {
     "data": {
      "text/html": [
       "<div>\n",
       "<style scoped>\n",
       "    .dataframe tbody tr th:only-of-type {\n",
       "        vertical-align: middle;\n",
       "    }\n",
       "\n",
       "    .dataframe tbody tr th {\n",
       "        vertical-align: top;\n",
       "    }\n",
       "\n",
       "    .dataframe thead th {\n",
       "        text-align: right;\n",
       "    }\n",
       "</style>\n",
       "<table border=\"1\" class=\"dataframe\">\n",
       "  <thead>\n",
       "    <tr style=\"text-align: right;\">\n",
       "      <th></th>\n",
       "      <th>userId</th>\n",
       "      <th>movieId</th>\n",
       "      <th>rating</th>\n",
       "      <th>timestamp</th>\n",
       "    </tr>\n",
       "  </thead>\n",
       "  <tbody>\n",
       "    <tr>\n",
       "      <th>0</th>\n",
       "      <td>1</td>\n",
       "      <td>31</td>\n",
       "      <td>2.5</td>\n",
       "      <td>1260759144</td>\n",
       "    </tr>\n",
       "    <tr>\n",
       "      <th>1</th>\n",
       "      <td>1</td>\n",
       "      <td>1029</td>\n",
       "      <td>3.0</td>\n",
       "      <td>1260759179</td>\n",
       "    </tr>\n",
       "    <tr>\n",
       "      <th>2</th>\n",
       "      <td>1</td>\n",
       "      <td>1061</td>\n",
       "      <td>3.0</td>\n",
       "      <td>1260759182</td>\n",
       "    </tr>\n",
       "    <tr>\n",
       "      <th>3</th>\n",
       "      <td>1</td>\n",
       "      <td>1129</td>\n",
       "      <td>2.0</td>\n",
       "      <td>1260759185</td>\n",
       "    </tr>\n",
       "    <tr>\n",
       "      <th>4</th>\n",
       "      <td>1</td>\n",
       "      <td>1172</td>\n",
       "      <td>4.0</td>\n",
       "      <td>1260759205</td>\n",
       "    </tr>\n",
       "  </tbody>\n",
       "</table>\n",
       "</div>"
      ],
      "text/plain": [
       "   userId  movieId  rating   timestamp\n",
       "0       1       31     2.5  1260759144\n",
       "1       1     1029     3.0  1260759179\n",
       "2       1     1061     3.0  1260759182\n",
       "3       1     1129     2.0  1260759185\n",
       "4       1     1172     4.0  1260759205"
      ]
     },
     "execution_count": 35,
     "metadata": {},
     "output_type": "execute_result"
    }
   ],
   "source": [
    "ratings_df.head()"
   ]
  },
  {
   "cell_type": "code",
   "execution_count": 36,
   "id": "f0905161-9da3-460c-9a09-1845b3576ba3",
   "metadata": {
    "tags": []
   },
   "outputs": [
    {
     "name": "stdout",
     "output_type": "stream",
     "text": [
      "<class 'pandas.core.frame.DataFrame'>\n",
      "RangeIndex: 100004 entries, 0 to 100003\n",
      "Data columns (total 4 columns):\n",
      " #   Column     Non-Null Count   Dtype  \n",
      "---  ------     --------------   -----  \n",
      " 0   userId     100004 non-null  int64  \n",
      " 1   movieId    100004 non-null  int64  \n",
      " 2   rating     100004 non-null  float64\n",
      " 3   timestamp  100004 non-null  int64  \n",
      "dtypes: float64(1), int64(3)\n",
      "memory usage: 3.1 MB\n"
     ]
    }
   ],
   "source": [
    "ratings_df.info()"
   ]
  },
  {
   "cell_type": "code",
   "execution_count": 37,
   "id": "46b23468-8a9e-43f2-bbdf-68bdc5fa1d97",
   "metadata": {
    "tags": []
   },
   "outputs": [
    {
     "data": {
      "text/html": [
       "<div>\n",
       "<style scoped>\n",
       "    .dataframe tbody tr th:only-of-type {\n",
       "        vertical-align: middle;\n",
       "    }\n",
       "\n",
       "    .dataframe tbody tr th {\n",
       "        vertical-align: top;\n",
       "    }\n",
       "\n",
       "    .dataframe thead th {\n",
       "        text-align: right;\n",
       "    }\n",
       "</style>\n",
       "<table border=\"1\" class=\"dataframe\">\n",
       "  <thead>\n",
       "    <tr style=\"text-align: right;\">\n",
       "      <th></th>\n",
       "      <th>adult</th>\n",
       "      <th>belongs_to_collection</th>\n",
       "      <th>budget</th>\n",
       "      <th>genres</th>\n",
       "      <th>homepage</th>\n",
       "      <th>id</th>\n",
       "      <th>imdb_id</th>\n",
       "      <th>original_language</th>\n",
       "      <th>original_title</th>\n",
       "      <th>overview</th>\n",
       "      <th>...</th>\n",
       "      <th>release_date</th>\n",
       "      <th>revenue</th>\n",
       "      <th>runtime</th>\n",
       "      <th>spoken_languages</th>\n",
       "      <th>status</th>\n",
       "      <th>tagline</th>\n",
       "      <th>title</th>\n",
       "      <th>video</th>\n",
       "      <th>vote_average</th>\n",
       "      <th>vote_count</th>\n",
       "    </tr>\n",
       "  </thead>\n",
       "  <tbody>\n",
       "    <tr>\n",
       "      <th>0</th>\n",
       "      <td>False</td>\n",
       "      <td>{'id': 10194, 'name': 'Toy Story Collection', ...</td>\n",
       "      <td>30000000</td>\n",
       "      <td>[{'id': 16, 'name': 'Animation'}, {'id': 35, '...</td>\n",
       "      <td>http://toystory.disney.com/toy-story</td>\n",
       "      <td>862</td>\n",
       "      <td>tt0114709</td>\n",
       "      <td>en</td>\n",
       "      <td>Toy Story</td>\n",
       "      <td>Led by Woody, Andy's toys live happily in his ...</td>\n",
       "      <td>...</td>\n",
       "      <td>1995-10-30</td>\n",
       "      <td>373554033.0</td>\n",
       "      <td>81.0</td>\n",
       "      <td>[{'iso_639_1': 'en', 'name': 'English'}]</td>\n",
       "      <td>Released</td>\n",
       "      <td>NaN</td>\n",
       "      <td>Toy Story</td>\n",
       "      <td>False</td>\n",
       "      <td>7.7</td>\n",
       "      <td>5415.0</td>\n",
       "    </tr>\n",
       "    <tr>\n",
       "      <th>1</th>\n",
       "      <td>False</td>\n",
       "      <td>NaN</td>\n",
       "      <td>65000000</td>\n",
       "      <td>[{'id': 12, 'name': 'Adventure'}, {'id': 14, '...</td>\n",
       "      <td>NaN</td>\n",
       "      <td>8844</td>\n",
       "      <td>tt0113497</td>\n",
       "      <td>en</td>\n",
       "      <td>Jumanji</td>\n",
       "      <td>When siblings Judy and Peter discover an encha...</td>\n",
       "      <td>...</td>\n",
       "      <td>1995-12-15</td>\n",
       "      <td>262797249.0</td>\n",
       "      <td>104.0</td>\n",
       "      <td>[{'iso_639_1': 'en', 'name': 'English'}, {'iso...</td>\n",
       "      <td>Released</td>\n",
       "      <td>Roll the dice and unleash the excitement!</td>\n",
       "      <td>Jumanji</td>\n",
       "      <td>False</td>\n",
       "      <td>6.9</td>\n",
       "      <td>2413.0</td>\n",
       "    </tr>\n",
       "    <tr>\n",
       "      <th>2</th>\n",
       "      <td>False</td>\n",
       "      <td>{'id': 119050, 'name': 'Grumpy Old Men Collect...</td>\n",
       "      <td>0</td>\n",
       "      <td>[{'id': 10749, 'name': 'Romance'}, {'id': 35, ...</td>\n",
       "      <td>NaN</td>\n",
       "      <td>15602</td>\n",
       "      <td>tt0113228</td>\n",
       "      <td>en</td>\n",
       "      <td>Grumpier Old Men</td>\n",
       "      <td>A family wedding reignites the ancient feud be...</td>\n",
       "      <td>...</td>\n",
       "      <td>1995-12-22</td>\n",
       "      <td>0.0</td>\n",
       "      <td>101.0</td>\n",
       "      <td>[{'iso_639_1': 'en', 'name': 'English'}]</td>\n",
       "      <td>Released</td>\n",
       "      <td>Still Yelling. Still Fighting. Still Ready for...</td>\n",
       "      <td>Grumpier Old Men</td>\n",
       "      <td>False</td>\n",
       "      <td>6.5</td>\n",
       "      <td>92.0</td>\n",
       "    </tr>\n",
       "    <tr>\n",
       "      <th>3</th>\n",
       "      <td>False</td>\n",
       "      <td>NaN</td>\n",
       "      <td>16000000</td>\n",
       "      <td>[{'id': 35, 'name': 'Comedy'}, {'id': 18, 'nam...</td>\n",
       "      <td>NaN</td>\n",
       "      <td>31357</td>\n",
       "      <td>tt0114885</td>\n",
       "      <td>en</td>\n",
       "      <td>Waiting to Exhale</td>\n",
       "      <td>Cheated on, mistreated and stepped on, the wom...</td>\n",
       "      <td>...</td>\n",
       "      <td>1995-12-22</td>\n",
       "      <td>81452156.0</td>\n",
       "      <td>127.0</td>\n",
       "      <td>[{'iso_639_1': 'en', 'name': 'English'}]</td>\n",
       "      <td>Released</td>\n",
       "      <td>Friends are the people who let you be yourself...</td>\n",
       "      <td>Waiting to Exhale</td>\n",
       "      <td>False</td>\n",
       "      <td>6.1</td>\n",
       "      <td>34.0</td>\n",
       "    </tr>\n",
       "    <tr>\n",
       "      <th>4</th>\n",
       "      <td>False</td>\n",
       "      <td>{'id': 96871, 'name': 'Father of the Bride Col...</td>\n",
       "      <td>0</td>\n",
       "      <td>[{'id': 35, 'name': 'Comedy'}]</td>\n",
       "      <td>NaN</td>\n",
       "      <td>11862</td>\n",
       "      <td>tt0113041</td>\n",
       "      <td>en</td>\n",
       "      <td>Father of the Bride Part II</td>\n",
       "      <td>Just when George Banks has recovered from his ...</td>\n",
       "      <td>...</td>\n",
       "      <td>1995-02-10</td>\n",
       "      <td>76578911.0</td>\n",
       "      <td>106.0</td>\n",
       "      <td>[{'iso_639_1': 'en', 'name': 'English'}]</td>\n",
       "      <td>Released</td>\n",
       "      <td>Just When His World Is Back To Normal... He's ...</td>\n",
       "      <td>Father of the Bride Part II</td>\n",
       "      <td>False</td>\n",
       "      <td>5.7</td>\n",
       "      <td>173.0</td>\n",
       "    </tr>\n",
       "  </tbody>\n",
       "</table>\n",
       "<p>5 rows × 24 columns</p>\n",
       "</div>"
      ],
      "text/plain": [
       "   adult                              belongs_to_collection    budget  \\\n",
       "0  False  {'id': 10194, 'name': 'Toy Story Collection', ...  30000000   \n",
       "1  False                                                NaN  65000000   \n",
       "2  False  {'id': 119050, 'name': 'Grumpy Old Men Collect...         0   \n",
       "3  False                                                NaN  16000000   \n",
       "4  False  {'id': 96871, 'name': 'Father of the Bride Col...         0   \n",
       "\n",
       "                                              genres  \\\n",
       "0  [{'id': 16, 'name': 'Animation'}, {'id': 35, '...   \n",
       "1  [{'id': 12, 'name': 'Adventure'}, {'id': 14, '...   \n",
       "2  [{'id': 10749, 'name': 'Romance'}, {'id': 35, ...   \n",
       "3  [{'id': 35, 'name': 'Comedy'}, {'id': 18, 'nam...   \n",
       "4                     [{'id': 35, 'name': 'Comedy'}]   \n",
       "\n",
       "                               homepage     id    imdb_id original_language  \\\n",
       "0  http://toystory.disney.com/toy-story    862  tt0114709                en   \n",
       "1                                   NaN   8844  tt0113497                en   \n",
       "2                                   NaN  15602  tt0113228                en   \n",
       "3                                   NaN  31357  tt0114885                en   \n",
       "4                                   NaN  11862  tt0113041                en   \n",
       "\n",
       "                original_title  \\\n",
       "0                    Toy Story   \n",
       "1                      Jumanji   \n",
       "2             Grumpier Old Men   \n",
       "3            Waiting to Exhale   \n",
       "4  Father of the Bride Part II   \n",
       "\n",
       "                                            overview  ... release_date  \\\n",
       "0  Led by Woody, Andy's toys live happily in his ...  ...   1995-10-30   \n",
       "1  When siblings Judy and Peter discover an encha...  ...   1995-12-15   \n",
       "2  A family wedding reignites the ancient feud be...  ...   1995-12-22   \n",
       "3  Cheated on, mistreated and stepped on, the wom...  ...   1995-12-22   \n",
       "4  Just when George Banks has recovered from his ...  ...   1995-02-10   \n",
       "\n",
       "       revenue runtime                                   spoken_languages  \\\n",
       "0  373554033.0    81.0           [{'iso_639_1': 'en', 'name': 'English'}]   \n",
       "1  262797249.0   104.0  [{'iso_639_1': 'en', 'name': 'English'}, {'iso...   \n",
       "2          0.0   101.0           [{'iso_639_1': 'en', 'name': 'English'}]   \n",
       "3   81452156.0   127.0           [{'iso_639_1': 'en', 'name': 'English'}]   \n",
       "4   76578911.0   106.0           [{'iso_639_1': 'en', 'name': 'English'}]   \n",
       "\n",
       "     status                                            tagline  \\\n",
       "0  Released                                                NaN   \n",
       "1  Released          Roll the dice and unleash the excitement!   \n",
       "2  Released  Still Yelling. Still Fighting. Still Ready for...   \n",
       "3  Released  Friends are the people who let you be yourself...   \n",
       "4  Released  Just When His World Is Back To Normal... He's ...   \n",
       "\n",
       "                         title  video vote_average vote_count  \n",
       "0                    Toy Story  False          7.7     5415.0  \n",
       "1                      Jumanji  False          6.9     2413.0  \n",
       "2             Grumpier Old Men  False          6.5       92.0  \n",
       "3            Waiting to Exhale  False          6.1       34.0  \n",
       "4  Father of the Bride Part II  False          5.7      173.0  \n",
       "\n",
       "[5 rows x 24 columns]"
      ]
     },
     "execution_count": 37,
     "metadata": {},
     "output_type": "execute_result"
    }
   ],
   "source": [
    "movies_df.head()"
   ]
  },
  {
   "cell_type": "code",
   "execution_count": 38,
   "id": "7bc361fa-e02b-407a-ab7b-f2ed211c90d7",
   "metadata": {
    "tags": []
   },
   "outputs": [
    {
     "name": "stdout",
     "output_type": "stream",
     "text": [
      "<class 'pandas.core.frame.DataFrame'>\n",
      "RangeIndex: 45466 entries, 0 to 45465\n",
      "Data columns (total 24 columns):\n",
      " #   Column                 Non-Null Count  Dtype  \n",
      "---  ------                 --------------  -----  \n",
      " 0   adult                  45466 non-null  object \n",
      " 1   belongs_to_collection  4494 non-null   object \n",
      " 2   budget                 45466 non-null  object \n",
      " 3   genres                 45466 non-null  object \n",
      " 4   homepage               7782 non-null   object \n",
      " 5   id                     45466 non-null  object \n",
      " 6   imdb_id                45449 non-null  object \n",
      " 7   original_language      45455 non-null  object \n",
      " 8   original_title         45466 non-null  object \n",
      " 9   overview               44512 non-null  object \n",
      " 10  popularity             45461 non-null  object \n",
      " 11  poster_path            45080 non-null  object \n",
      " 12  production_companies   45463 non-null  object \n",
      " 13  production_countries   45463 non-null  object \n",
      " 14  release_date           45379 non-null  object \n",
      " 15  revenue                45460 non-null  float64\n",
      " 16  runtime                45203 non-null  float64\n",
      " 17  spoken_languages       45460 non-null  object \n",
      " 18  status                 45379 non-null  object \n",
      " 19  tagline                20412 non-null  object \n",
      " 20  title                  45460 non-null  object \n",
      " 21  video                  45460 non-null  object \n",
      " 22  vote_average           45460 non-null  float64\n",
      " 23  vote_count             45460 non-null  float64\n",
      "dtypes: float64(4), object(20)\n",
      "memory usage: 8.3+ MB\n"
     ]
    }
   ],
   "source": [
    "movies_df.info()"
   ]
  },
  {
   "cell_type": "code",
   "execution_count": 39,
   "id": "4e32c4be-d649-4e90-8526-163f7df26f81",
   "metadata": {
    "tags": []
   },
   "outputs": [
    {
     "data": {
      "image/png": "[encoded data removed]",
      "text/plain": [
       "<Figure size 1000x600 with 1 Axes>"
      ]
     },
     "metadata": {},
     "output_type": "display_data"
    },
    {
     "name": "stdout",
     "output_type": "stream",
     "text": [
      "Overall Statistics:\n",
      "count    100004.000000\n",
      "mean          3.543608\n",
      "std           1.058064\n",
      "min           0.500000\n",
      "25%           3.000000\n",
      "50%           4.000000\n",
      "75%           4.000000\n",
      "max           5.000000\n",
      "Name: rating, dtype: float64\n"
     ]
    }
   ],
   "source": [
    "plt.figure(figsize=(10, 6))\n",
    "ax = sns.countplot(data=ratings_df, x='rating')\n",
    "labels = (ratings_df['rating'].value_counts().sort_index())\n",
    "plt.title('Overall Rating Distribution')\n",
    "plt.xlabel('Ratings')\n",
    "plt.ylabel('Count')\n",
    "plt.figtext(0.5, 0.005, 'Figure 1', ha='right', va='top')\n",
    "plt.show()\n",
    "\n",
    "# Display overall statistics\n",
    "print(\"Overall Statistics:\")\n",
    "print(ratings_df['rating'].describe())\n"
   ]
  },
  {
   "cell_type": "markdown",
   "id": "3c794d47-8476-4809-a149-9fae75c12c79",
   "metadata": {},
   "source": [
    "## Clean the Data"
   ]
  },
  {
   "cell_type": "code",
   "execution_count": 40,
   "id": "89bf6ab2-d8df-4235-abc5-d02e28dfc98c",
   "metadata": {
    "tags": []
   },
   "outputs": [],
   "source": [
    "clean_df = movies_df['title'].isna()"
   ]
  },
  {
   "cell_type": "code",
   "execution_count": 41,
   "id": "ff56bbfe-adb2-4910-b800-b7b7f57a4a38",
   "metadata": {
    "tags": []
   },
   "outputs": [],
   "source": [
    "movies_df = movies_df.loc[clean_df == False]"
   ]
  },
  {
   "cell_type": "code",
   "execution_count": 42,
   "id": "45acc4e1-2446-4451-b378-d944792b13c6",
   "metadata": {
    "tags": []
   },
   "outputs": [],
   "source": [
    "# Convert 'id' column in df_metadata to int64\n",
    "movies_df['id'] = pd.to_numeric(movies_df['id'], errors='coerce')\n"
   ]
  },
  {
   "cell_type": "code",
   "execution_count": 43,
   "id": "8c35d60f-9bca-4bba-84dc-1b77ec299b60",
   "metadata": {
    "tags": []
   },
   "outputs": [
    {
     "data": {
      "text/html": [
       "<div>\n",
       "<style scoped>\n",
       "    .dataframe tbody tr th:only-of-type {\n",
       "        vertical-align: middle;\n",
       "    }\n",
       "\n",
       "    .dataframe tbody tr th {\n",
       "        vertical-align: top;\n",
       "    }\n",
       "\n",
       "    .dataframe thead th {\n",
       "        text-align: right;\n",
       "    }\n",
       "</style>\n",
       "<table border=\"1\" class=\"dataframe\">\n",
       "  <thead>\n",
       "    <tr style=\"text-align: right;\">\n",
       "      <th></th>\n",
       "      <th>userId</th>\n",
       "      <th>movieId</th>\n",
       "      <th>rating</th>\n",
       "      <th>timestamp</th>\n",
       "      <th>id</th>\n",
       "      <th>title</th>\n",
       "    </tr>\n",
       "  </thead>\n",
       "  <tbody>\n",
       "    <tr>\n",
       "      <th>0</th>\n",
       "      <td>1</td>\n",
       "      <td>1371</td>\n",
       "      <td>2.5</td>\n",
       "      <td>1260759135</td>\n",
       "      <td>1371</td>\n",
       "      <td>Rocky III</td>\n",
       "    </tr>\n",
       "    <tr>\n",
       "      <th>1</th>\n",
       "      <td>4</td>\n",
       "      <td>1371</td>\n",
       "      <td>4.0</td>\n",
       "      <td>949810302</td>\n",
       "      <td>1371</td>\n",
       "      <td>Rocky III</td>\n",
       "    </tr>\n",
       "    <tr>\n",
       "      <th>2</th>\n",
       "      <td>7</td>\n",
       "      <td>1371</td>\n",
       "      <td>3.0</td>\n",
       "      <td>851869160</td>\n",
       "      <td>1371</td>\n",
       "      <td>Rocky III</td>\n",
       "    </tr>\n",
       "    <tr>\n",
       "      <th>3</th>\n",
       "      <td>19</td>\n",
       "      <td>1371</td>\n",
       "      <td>4.0</td>\n",
       "      <td>855193404</td>\n",
       "      <td>1371</td>\n",
       "      <td>Rocky III</td>\n",
       "    </tr>\n",
       "    <tr>\n",
       "      <th>4</th>\n",
       "      <td>21</td>\n",
       "      <td>1371</td>\n",
       "      <td>3.0</td>\n",
       "      <td>853852263</td>\n",
       "      <td>1371</td>\n",
       "      <td>Rocky III</td>\n",
       "    </tr>\n",
       "  </tbody>\n",
       "</table>\n",
       "</div>"
      ],
      "text/plain": [
       "   userId  movieId  rating   timestamp    id      title\n",
       "0       1     1371     2.5  1260759135  1371  Rocky III\n",
       "1       4     1371     4.0   949810302  1371  Rocky III\n",
       "2       7     1371     3.0   851869160  1371  Rocky III\n",
       "3      19     1371     4.0   855193404  1371  Rocky III\n",
       "4      21     1371     3.0   853852263  1371  Rocky III"
      ]
     },
     "execution_count": 43,
     "metadata": {},
     "output_type": "execute_result"
    }
   ],
   "source": [
    "# Merge the two dataframes on 'movieId' and 'id'\n",
    "df = pd.merge(ratings_df, movies_df[['id', 'title']], left_on='movieId', right_on='id', how='inner')\n",
    "\n",
    "# Display the merged dataframe\n",
    "df.head()"
   ]
  },
  {
   "cell_type": "code",
   "execution_count": 44,
   "id": "9634f3e8-a639-4a14-a9ca-1651104b3b7b",
   "metadata": {
    "tags": []
   },
   "outputs": [],
   "source": [
    "df.drop(['timestamp', 'id'], axis=1, inplace=True)"
   ]
  },
  {
   "cell_type": "code",
   "execution_count": 45,
   "id": "5df4ff87-68ca-44a9-810b-8989355c47f9",
   "metadata": {
    "tags": []
   },
   "outputs": [],
   "source": [
    "df = df.drop_duplicates(['userId','title'])"
   ]
  },
  {
   "cell_type": "code",
   "execution_count": 46,
   "id": "9dbb805b-f999-4ec9-b5d9-bb62e6b0dc42",
   "metadata": {
    "tags": []
   },
   "outputs": [],
   "source": [
    "df_pivot = df.pivot(index='userId', columns='title', values='rating').fillna(0)"
   ]
  },
  {
   "cell_type": "code",
   "execution_count": 47,
   "id": "87681666-96bb-4505-a04c-f59f446ac996",
   "metadata": {
    "tags": []
   },
   "outputs": [],
   "source": [
    "df_pivot = df_pivot.astype('int64')"
   ]
  },
  {
   "cell_type": "code",
   "execution_count": 48,
   "id": "f0e70e39-a973-496c-8985-e4570c3bcb68",
   "metadata": {
    "tags": []
   },
   "outputs": [
    {
     "data": {
      "text/html": [
       "<div>\n",
       "<style scoped>\n",
       "    .dataframe tbody tr th:only-of-type {\n",
       "        vertical-align: middle;\n",
       "    }\n",
       "\n",
       "    .dataframe tbody tr th {\n",
       "        vertical-align: top;\n",
       "    }\n",
       "\n",
       "    .dataframe thead th {\n",
       "        text-align: right;\n",
       "    }\n",
       "</style>\n",
       "<table border=\"1\" class=\"dataframe\">\n",
       "  <thead>\n",
       "    <tr style=\"text-align: right;\">\n",
       "      <th>title</th>\n",
       "      <th>!Women Art Revolution</th>\n",
       "      <th>'Gator Bait</th>\n",
       "      <th>'Twas the Night Before Christmas</th>\n",
       "      <th>...And God Created Woman</th>\n",
       "      <th>00 Schneider - Jagd auf Nihil Baxter</th>\n",
       "      <th>10 Items or Less</th>\n",
       "      <th>10 Things I Hate About You</th>\n",
       "      <th>10,000 BC</th>\n",
       "      <th>11'09''01 - September 11</th>\n",
       "      <th>12 Angry Men</th>\n",
       "      <th>...</th>\n",
       "      <th>Zodiac</th>\n",
       "      <th>Zombie Flesh Eaters</th>\n",
       "      <th>Zombie Holocaust</th>\n",
       "      <th>Zozo</th>\n",
       "      <th>eXistenZ</th>\n",
       "      <th>xXx</th>\n",
       "      <th>¡Three Amigos!</th>\n",
       "      <th>À nos amours</th>\n",
       "      <th>Ödipussi</th>\n",
       "      <th>Şaban Oğlu Şaban</th>\n",
       "    </tr>\n",
       "    <tr>\n",
       "      <th>userId</th>\n",
       "      <th></th>\n",
       "      <th></th>\n",
       "      <th></th>\n",
       "      <th></th>\n",
       "      <th></th>\n",
       "      <th></th>\n",
       "      <th></th>\n",
       "      <th></th>\n",
       "      <th></th>\n",
       "      <th></th>\n",
       "      <th></th>\n",
       "      <th></th>\n",
       "      <th></th>\n",
       "      <th></th>\n",
       "      <th></th>\n",
       "      <th></th>\n",
       "      <th></th>\n",
       "      <th></th>\n",
       "      <th></th>\n",
       "      <th></th>\n",
       "      <th></th>\n",
       "    </tr>\n",
       "  </thead>\n",
       "  <tbody>\n",
       "    <tr>\n",
       "      <th>1</th>\n",
       "      <td>0</td>\n",
       "      <td>0</td>\n",
       "      <td>0</td>\n",
       "      <td>0</td>\n",
       "      <td>0</td>\n",
       "      <td>0</td>\n",
       "      <td>0</td>\n",
       "      <td>0</td>\n",
       "      <td>0</td>\n",
       "      <td>0</td>\n",
       "      <td>...</td>\n",
       "      <td>0</td>\n",
       "      <td>0</td>\n",
       "      <td>0</td>\n",
       "      <td>0</td>\n",
       "      <td>0</td>\n",
       "      <td>0</td>\n",
       "      <td>0</td>\n",
       "      <td>0</td>\n",
       "      <td>0</td>\n",
       "      <td>0</td>\n",
       "    </tr>\n",
       "    <tr>\n",
       "      <th>2</th>\n",
       "      <td>0</td>\n",
       "      <td>0</td>\n",
       "      <td>0</td>\n",
       "      <td>0</td>\n",
       "      <td>0</td>\n",
       "      <td>0</td>\n",
       "      <td>0</td>\n",
       "      <td>0</td>\n",
       "      <td>0</td>\n",
       "      <td>0</td>\n",
       "      <td>...</td>\n",
       "      <td>0</td>\n",
       "      <td>0</td>\n",
       "      <td>0</td>\n",
       "      <td>0</td>\n",
       "      <td>0</td>\n",
       "      <td>0</td>\n",
       "      <td>0</td>\n",
       "      <td>0</td>\n",
       "      <td>0</td>\n",
       "      <td>0</td>\n",
       "    </tr>\n",
       "    <tr>\n",
       "      <th>3</th>\n",
       "      <td>0</td>\n",
       "      <td>0</td>\n",
       "      <td>0</td>\n",
       "      <td>0</td>\n",
       "      <td>0</td>\n",
       "      <td>0</td>\n",
       "      <td>0</td>\n",
       "      <td>0</td>\n",
       "      <td>0</td>\n",
       "      <td>0</td>\n",
       "      <td>...</td>\n",
       "      <td>0</td>\n",
       "      <td>0</td>\n",
       "      <td>0</td>\n",
       "      <td>0</td>\n",
       "      <td>0</td>\n",
       "      <td>0</td>\n",
       "      <td>0</td>\n",
       "      <td>0</td>\n",
       "      <td>0</td>\n",
       "      <td>0</td>\n",
       "    </tr>\n",
       "    <tr>\n",
       "      <th>4</th>\n",
       "      <td>0</td>\n",
       "      <td>0</td>\n",
       "      <td>0</td>\n",
       "      <td>0</td>\n",
       "      <td>0</td>\n",
       "      <td>0</td>\n",
       "      <td>0</td>\n",
       "      <td>0</td>\n",
       "      <td>0</td>\n",
       "      <td>0</td>\n",
       "      <td>...</td>\n",
       "      <td>0</td>\n",
       "      <td>0</td>\n",
       "      <td>0</td>\n",
       "      <td>0</td>\n",
       "      <td>0</td>\n",
       "      <td>0</td>\n",
       "      <td>0</td>\n",
       "      <td>0</td>\n",
       "      <td>0</td>\n",
       "      <td>0</td>\n",
       "    </tr>\n",
       "    <tr>\n",
       "      <th>5</th>\n",
       "      <td>0</td>\n",
       "      <td>0</td>\n",
       "      <td>0</td>\n",
       "      <td>0</td>\n",
       "      <td>0</td>\n",
       "      <td>0</td>\n",
       "      <td>0</td>\n",
       "      <td>0</td>\n",
       "      <td>0</td>\n",
       "      <td>0</td>\n",
       "      <td>...</td>\n",
       "      <td>0</td>\n",
       "      <td>0</td>\n",
       "      <td>0</td>\n",
       "      <td>0</td>\n",
       "      <td>0</td>\n",
       "      <td>0</td>\n",
       "      <td>0</td>\n",
       "      <td>0</td>\n",
       "      <td>0</td>\n",
       "      <td>0</td>\n",
       "    </tr>\n",
       "  </tbody>\n",
       "</table>\n",
       "<p>5 rows × 2794 columns</p>\n",
       "</div>"
      ],
      "text/plain": [
       "title   !Women Art Revolution  'Gator Bait  'Twas the Night Before Christmas  \\\n",
       "userId                                                                         \n",
       "1                           0            0                                 0   \n",
       "2                           0            0                                 0   \n",
       "3                           0            0                                 0   \n",
       "4                           0            0                                 0   \n",
       "5                           0            0                                 0   \n",
       "\n",
       "title   ...And God Created Woman  00 Schneider - Jagd auf Nihil Baxter  \\\n",
       "userId                                                                   \n",
       "1                              0                                     0   \n",
       "2                              0                                     0   \n",
       "3                              0                                     0   \n",
       "4                              0                                     0   \n",
       "5                              0                                     0   \n",
       "\n",
       "title   10 Items or Less  10 Things I Hate About You  10,000 BC  \\\n",
       "userId                                                            \n",
       "1                      0                           0          0   \n",
       "2                      0                           0          0   \n",
       "3                      0                           0          0   \n",
       "4                      0                           0          0   \n",
       "5                      0                           0          0   \n",
       "\n",
       "title   11'09''01 - September 11  12 Angry Men  ...  Zodiac  \\\n",
       "userId                                          ...           \n",
       "1                              0             0  ...       0   \n",
       "2                              0             0  ...       0   \n",
       "3                              0             0  ...       0   \n",
       "4                              0             0  ...       0   \n",
       "5                              0             0  ...       0   \n",
       "\n",
       "title   Zombie Flesh Eaters  Zombie Holocaust  Zozo  eXistenZ  xXx  \\\n",
       "userId                                                               \n",
       "1                         0                 0     0         0    0   \n",
       "2                         0                 0     0         0    0   \n",
       "3                         0                 0     0         0    0   \n",
       "4                         0                 0     0         0    0   \n",
       "5                         0                 0     0         0    0   \n",
       "\n",
       "title   ¡Three Amigos!  À nos amours  Ödipussi  Şaban Oğlu Şaban  \n",
       "userId                                                            \n",
       "1                    0             0         0                 0  \n",
       "2                    0             0         0                 0  \n",
       "3                    0             0         0                 0  \n",
       "4                    0             0         0                 0  \n",
       "5                    0             0         0                 0  \n",
       "\n",
       "[5 rows x 2794 columns]"
      ]
     },
     "execution_count": 48,
     "metadata": {},
     "output_type": "execute_result"
    }
   ],
   "source": [
    "def encode_ratings(x):\n",
    "    if x<=0:\n",
    "        return 0\n",
    "    if x>=1:\n",
    "        return 1\n",
    "\n",
    "df_pivot = df_pivot.applymap(encode_ratings)\n",
    "df_pivot.head()"
   ]
  },
  {
   "cell_type": "markdown",
   "id": "fe3789ad-e1d4-4a26-9200-1df7d448db88",
   "metadata": {},
   "source": [
    "## Method 1: Apriori & K-means Clustering \n"
   ]
  },
  {
   "cell_type": "code",
   "execution_count": 49,
   "id": "ca2b02fb-1f31-42c3-9acb-039463e17a82",
   "metadata": {
    "tags": []
   },
   "outputs": [],
   "source": [
    "from mlxtend.frequent_patterns import apriori\n",
    "\n",
    "df_pivot = df_pivot.astype(bool)\n",
    "\n",
    "frequent_itemset = apriori(df_pivot, min_support=0.07, use_colnames=True)"
   ]
  },
  {
   "cell_type": "code",
   "execution_count": 50,
   "id": "5e1bedb1-30ec-4c38-9b36-9ec8bd5df966",
   "metadata": {
    "tags": []
   },
   "outputs": [
    {
     "data": {
      "text/html": [
       "<div>\n",
       "<style scoped>\n",
       "    .dataframe tbody tr th:only-of-type {\n",
       "        vertical-align: middle;\n",
       "    }\n",
       "\n",
       "    .dataframe tbody tr th {\n",
       "        vertical-align: top;\n",
       "    }\n",
       "\n",
       "    .dataframe thead th {\n",
       "        text-align: right;\n",
       "    }\n",
       "</style>\n",
       "<table border=\"1\" class=\"dataframe\">\n",
       "  <thead>\n",
       "    <tr style=\"text-align: right;\">\n",
       "      <th></th>\n",
       "      <th>support</th>\n",
       "      <th>itemsets</th>\n",
       "    </tr>\n",
       "  </thead>\n",
       "  <tbody>\n",
       "    <tr>\n",
       "      <th>0</th>\n",
       "      <td>0.129657</td>\n",
       "      <td>(20,000 Leagues Under the Sea)</td>\n",
       "    </tr>\n",
       "    <tr>\n",
       "      <th>1</th>\n",
       "      <td>0.129657</td>\n",
       "      <td>(2001: A Space Odyssey)</td>\n",
       "    </tr>\n",
       "    <tr>\n",
       "      <th>2</th>\n",
       "      <td>0.298063</td>\n",
       "      <td>(48 Hrs.)</td>\n",
       "    </tr>\n",
       "    <tr>\n",
       "      <th>3</th>\n",
       "      <td>0.292101</td>\n",
       "      <td>(5 Card Stud)</td>\n",
       "    </tr>\n",
       "    <tr>\n",
       "      <th>4</th>\n",
       "      <td>0.093890</td>\n",
       "      <td>(A Brief History of Time)</td>\n",
       "    </tr>\n",
       "  </tbody>\n",
       "</table>\n",
       "</div>"
      ],
      "text/plain": [
       "    support                        itemsets\n",
       "0  0.129657  (20,000 Leagues Under the Sea)\n",
       "1  0.129657         (2001: A Space Odyssey)\n",
       "2  0.298063                       (48 Hrs.)\n",
       "3  0.292101                   (5 Card Stud)\n",
       "4  0.093890       (A Brief History of Time)"
      ]
     },
     "execution_count": 50,
     "metadata": {},
     "output_type": "execute_result"
    }
   ],
   "source": [
    "frequent_itemset.head()"
   ]
  },
  {
   "cell_type": "code",
   "execution_count": 51,
   "id": "e81fbdbd-2996-47e3-a0d6-34d460328187",
   "metadata": {
    "tags": []
   },
   "outputs": [],
   "source": [
    "from mlxtend.frequent_patterns import association_rules\n",
    "\n",
    "rules = association_rules(frequent_itemset, metric=\"lift\", min_threshold=1)"
   ]
  },
  {
   "cell_type": "code",
   "execution_count": 52,
   "id": "15346387-1c73-4c64-aed5-e9823dd89f02",
   "metadata": {
    "tags": []
   },
   "outputs": [
    {
     "data": {
      "text/html": [
       "<div>\n",
       "<style scoped>\n",
       "    .dataframe tbody tr th:only-of-type {\n",
       "        vertical-align: middle;\n",
       "    }\n",
       "\n",
       "    .dataframe tbody tr th {\n",
       "        vertical-align: top;\n",
       "    }\n",
       "\n",
       "    .dataframe thead th {\n",
       "        text-align: right;\n",
       "    }\n",
       "</style>\n",
       "<table border=\"1\" class=\"dataframe\">\n",
       "  <thead>\n",
       "    <tr style=\"text-align: right;\">\n",
       "      <th></th>\n",
       "      <th>antecedents</th>\n",
       "      <th>consequents</th>\n",
       "      <th>antecedent support</th>\n",
       "      <th>consequent support</th>\n",
       "      <th>support</th>\n",
       "      <th>confidence</th>\n",
       "      <th>lift</th>\n",
       "      <th>leverage</th>\n",
       "      <th>conviction</th>\n",
       "      <th>zhangs_metric</th>\n",
       "    </tr>\n",
       "  </thead>\n",
       "  <tbody>\n",
       "    <tr>\n",
       "      <th>0</th>\n",
       "      <td>(20,000 Leagues Under the Sea)</td>\n",
       "      <td>(48 Hrs.)</td>\n",
       "      <td>0.129657</td>\n",
       "      <td>0.298063</td>\n",
       "      <td>0.076006</td>\n",
       "      <td>0.586207</td>\n",
       "      <td>1.966724</td>\n",
       "      <td>0.037360</td>\n",
       "      <td>1.696349</td>\n",
       "      <td>0.564766</td>\n",
       "    </tr>\n",
       "    <tr>\n",
       "      <th>1</th>\n",
       "      <td>(48 Hrs.)</td>\n",
       "      <td>(20,000 Leagues Under the Sea)</td>\n",
       "      <td>0.298063</td>\n",
       "      <td>0.129657</td>\n",
       "      <td>0.076006</td>\n",
       "      <td>0.255000</td>\n",
       "      <td>1.966724</td>\n",
       "      <td>0.037360</td>\n",
       "      <td>1.168245</td>\n",
       "      <td>0.700262</td>\n",
       "    </tr>\n",
       "    <tr>\n",
       "      <th>2</th>\n",
       "      <td>(20,000 Leagues Under the Sea)</td>\n",
       "      <td>(A Nightmare on Elm Street)</td>\n",
       "      <td>0.129657</td>\n",
       "      <td>0.266766</td>\n",
       "      <td>0.081967</td>\n",
       "      <td>0.632184</td>\n",
       "      <td>2.369807</td>\n",
       "      <td>0.047379</td>\n",
       "      <td>1.993480</td>\n",
       "      <td>0.664134</td>\n",
       "    </tr>\n",
       "    <tr>\n",
       "      <th>3</th>\n",
       "      <td>(A Nightmare on Elm Street)</td>\n",
       "      <td>(20,000 Leagues Under the Sea)</td>\n",
       "      <td>0.266766</td>\n",
       "      <td>0.129657</td>\n",
       "      <td>0.081967</td>\n",
       "      <td>0.307263</td>\n",
       "      <td>2.369807</td>\n",
       "      <td>0.047379</td>\n",
       "      <td>1.256382</td>\n",
       "      <td>0.788322</td>\n",
       "    </tr>\n",
       "    <tr>\n",
       "      <th>4</th>\n",
       "      <td>(20,000 Leagues Under the Sea)</td>\n",
       "      <td>(Back to the Future Part II)</td>\n",
       "      <td>0.129657</td>\n",
       "      <td>0.210134</td>\n",
       "      <td>0.077496</td>\n",
       "      <td>0.597701</td>\n",
       "      <td>2.844379</td>\n",
       "      <td>0.050251</td>\n",
       "      <td>1.963381</td>\n",
       "      <td>0.745028</td>\n",
       "    </tr>\n",
       "  </tbody>\n",
       "</table>\n",
       "</div>"
      ],
      "text/plain": [
       "                      antecedents                     consequents  \\\n",
       "0  (20,000 Leagues Under the Sea)                       (48 Hrs.)   \n",
       "1                       (48 Hrs.)  (20,000 Leagues Under the Sea)   \n",
       "2  (20,000 Leagues Under the Sea)     (A Nightmare on Elm Street)   \n",
       "3     (A Nightmare on Elm Street)  (20,000 Leagues Under the Sea)   \n",
       "4  (20,000 Leagues Under the Sea)    (Back to the Future Part II)   \n",
       "\n",
       "   antecedent support  consequent support   support  confidence      lift  \\\n",
       "0            0.129657            0.298063  0.076006    0.586207  1.966724   \n",
       "1            0.298063            0.129657  0.076006    0.255000  1.966724   \n",
       "2            0.129657            0.266766  0.081967    0.632184  2.369807   \n",
       "3            0.266766            0.129657  0.081967    0.307263  2.369807   \n",
       "4            0.129657            0.210134  0.077496    0.597701  2.844379   \n",
       "\n",
       "   leverage  conviction  zhangs_metric  \n",
       "0  0.037360    1.696349       0.564766  \n",
       "1  0.037360    1.168245       0.700262  \n",
       "2  0.047379    1.993480       0.664134  \n",
       "3  0.047379    1.256382       0.788322  \n",
       "4  0.050251    1.963381       0.745028  "
      ]
     },
     "execution_count": 52,
     "metadata": {},
     "output_type": "execute_result"
    }
   ],
   "source": [
    "rules.head()"
   ]
  },
  {
   "cell_type": "code",
   "execution_count": 53,
   "id": "0834e00d-2802-42fa-a8bf-4f8739e068cb",
   "metadata": {
    "tags": []
   },
   "outputs": [],
   "source": [
    "#Sort by Lift\n",
    "df_lift = rules.sort_values(by=['lift'], ascending=False)"
   ]
  },
  {
   "cell_type": "code",
   "execution_count": 65,
   "id": "53abebc2-8c9b-4702-bad4-9c8522eb47a4",
   "metadata": {
    "tags": []
   },
   "outputs": [
    {
     "data": {
      "text/html": [
       "<div>\n",
       "<style scoped>\n",
       "    .dataframe tbody tr th:only-of-type {\n",
       "        vertical-align: middle;\n",
       "    }\n",
       "\n",
       "    .dataframe tbody tr th {\n",
       "        vertical-align: top;\n",
       "    }\n",
       "\n",
       "    .dataframe thead th {\n",
       "        text-align: right;\n",
       "    }\n",
       "</style>\n",
       "<table border=\"1\" class=\"dataframe\">\n",
       "  <thead>\n",
       "    <tr style=\"text-align: right;\">\n",
       "      <th></th>\n",
       "      <th>antecedents</th>\n",
       "      <th>consequents</th>\n",
       "      <th>antecedent support</th>\n",
       "      <th>consequent support</th>\n",
       "      <th>support</th>\n",
       "      <th>confidence</th>\n",
       "      <th>lift</th>\n",
       "      <th>leverage</th>\n",
       "      <th>conviction</th>\n",
       "      <th>zhangs_metric</th>\n",
       "    </tr>\n",
       "  </thead>\n",
       "  <tbody>\n",
       "    <tr>\n",
       "      <th>70961</th>\n",
       "      <td>(On Guard)</td>\n",
       "      <td>(Muxmäuschenstill, The Garden of Eden)</td>\n",
       "      <td>0.087928</td>\n",
       "      <td>0.099851</td>\n",
       "      <td>0.070045</td>\n",
       "      <td>0.796610</td>\n",
       "      <td>7.977991</td>\n",
       "      <td>0.061265</td>\n",
       "      <td>4.425733</td>\n",
       "      <td>0.958976</td>\n",
       "    </tr>\n",
       "    <tr>\n",
       "      <th>70956</th>\n",
       "      <td>(Muxmäuschenstill, The Garden of Eden)</td>\n",
       "      <td>(On Guard)</td>\n",
       "      <td>0.099851</td>\n",
       "      <td>0.087928</td>\n",
       "      <td>0.070045</td>\n",
       "      <td>0.701493</td>\n",
       "      <td>7.977991</td>\n",
       "      <td>0.061265</td>\n",
       "      <td>3.055440</td>\n",
       "      <td>0.971678</td>\n",
       "    </tr>\n",
       "    <tr>\n",
       "      <th>197232</th>\n",
       "      <td>(Big Fish, Rope)</td>\n",
       "      <td>(Psycho, All the Way Boys)</td>\n",
       "      <td>0.092399</td>\n",
       "      <td>0.095380</td>\n",
       "      <td>0.070045</td>\n",
       "      <td>0.758065</td>\n",
       "      <td>7.947833</td>\n",
       "      <td>0.061232</td>\n",
       "      <td>3.739096</td>\n",
       "      <td>0.963176</td>\n",
       "    </tr>\n",
       "    <tr>\n",
       "      <th>197237</th>\n",
       "      <td>(Psycho, All the Way Boys)</td>\n",
       "      <td>(Big Fish, Rope)</td>\n",
       "      <td>0.095380</td>\n",
       "      <td>0.092399</td>\n",
       "      <td>0.070045</td>\n",
       "      <td>0.734375</td>\n",
       "      <td>7.947833</td>\n",
       "      <td>0.061232</td>\n",
       "      <td>3.416849</td>\n",
       "      <td>0.966350</td>\n",
       "    </tr>\n",
       "    <tr>\n",
       "      <th>2541172</th>\n",
       "      <td>(Cockles and Muscles, 48 Hrs., A Nightmare on ...</td>\n",
       "      <td>(Sissi, Rain Man, Monsoon Wedding, The Hours, ...</td>\n",
       "      <td>0.093890</td>\n",
       "      <td>0.098361</td>\n",
       "      <td>0.071535</td>\n",
       "      <td>0.761905</td>\n",
       "      <td>7.746032</td>\n",
       "      <td>0.062300</td>\n",
       "      <td>3.786885</td>\n",
       "      <td>0.961143</td>\n",
       "    </tr>\n",
       "    <tr>\n",
       "      <th>2541025</th>\n",
       "      <td>(Sissi, Rain Man, Monsoon Wedding, The Hours, ...</td>\n",
       "      <td>(Cockles and Muscles, 48 Hrs., A Nightmare on ...</td>\n",
       "      <td>0.098361</td>\n",
       "      <td>0.093890</td>\n",
       "      <td>0.071535</td>\n",
       "      <td>0.727273</td>\n",
       "      <td>7.746032</td>\n",
       "      <td>0.062300</td>\n",
       "      <td>3.322404</td>\n",
       "      <td>0.965909</td>\n",
       "    </tr>\n",
       "    <tr>\n",
       "      <th>197235</th>\n",
       "      <td>(Rope, Psycho)</td>\n",
       "      <td>(Big Fish, All the Way Boys)</td>\n",
       "      <td>0.098361</td>\n",
       "      <td>0.093890</td>\n",
       "      <td>0.070045</td>\n",
       "      <td>0.712121</td>\n",
       "      <td>7.584656</td>\n",
       "      <td>0.060810</td>\n",
       "      <td>3.147541</td>\n",
       "      <td>0.962863</td>\n",
       "    </tr>\n",
       "    <tr>\n",
       "      <th>197234</th>\n",
       "      <td>(Big Fish, All the Way Boys)</td>\n",
       "      <td>(Rope, Psycho)</td>\n",
       "      <td>0.093890</td>\n",
       "      <td>0.098361</td>\n",
       "      <td>0.070045</td>\n",
       "      <td>0.746032</td>\n",
       "      <td>7.584656</td>\n",
       "      <td>0.060810</td>\n",
       "      <td>3.550205</td>\n",
       "      <td>0.958112</td>\n",
       "    </tr>\n",
       "    <tr>\n",
       "      <th>2541081</th>\n",
       "      <td>(Sissi, Cockles and Muscles, 48 Hrs., A Nightm...</td>\n",
       "      <td>(Rain Man, Back to the Future Part II, The Hou...</td>\n",
       "      <td>0.090909</td>\n",
       "      <td>0.104322</td>\n",
       "      <td>0.071535</td>\n",
       "      <td>0.786885</td>\n",
       "      <td>7.542857</td>\n",
       "      <td>0.062051</td>\n",
       "      <td>4.202797</td>\n",
       "      <td>0.954167</td>\n",
       "    </tr>\n",
       "    <tr>\n",
       "      <th>2541116</th>\n",
       "      <td>(Rain Man, Back to the Future Part II, The Hou...</td>\n",
       "      <td>(Sissi, Cockles and Muscles, 48 Hrs., A Nightm...</td>\n",
       "      <td>0.104322</td>\n",
       "      <td>0.090909</td>\n",
       "      <td>0.071535</td>\n",
       "      <td>0.685714</td>\n",
       "      <td>7.542857</td>\n",
       "      <td>0.062051</td>\n",
       "      <td>2.892562</td>\n",
       "      <td>0.968455</td>\n",
       "    </tr>\n",
       "  </tbody>\n",
       "</table>\n",
       "</div>"
      ],
      "text/plain": [
       "                                               antecedents  \\\n",
       "70961                                           (On Guard)   \n",
       "70956               (Muxmäuschenstill, The Garden of Eden)   \n",
       "197232                                    (Big Fish, Rope)   \n",
       "197237                          (Psycho, All the Way Boys)   \n",
       "2541172  (Cockles and Muscles, 48 Hrs., A Nightmare on ...   \n",
       "2541025  (Sissi, Rain Man, Monsoon Wedding, The Hours, ...   \n",
       "197235                                      (Rope, Psycho)   \n",
       "197234                        (Big Fish, All the Way Boys)   \n",
       "2541081  (Sissi, Cockles and Muscles, 48 Hrs., A Nightm...   \n",
       "2541116  (Rain Man, Back to the Future Part II, The Hou...   \n",
       "\n",
       "                                               consequents  \\\n",
       "70961               (Muxmäuschenstill, The Garden of Eden)   \n",
       "70956                                           (On Guard)   \n",
       "197232                          (Psycho, All the Way Boys)   \n",
       "197237                                    (Big Fish, Rope)   \n",
       "2541172  (Sissi, Rain Man, Monsoon Wedding, The Hours, ...   \n",
       "2541025  (Cockles and Muscles, 48 Hrs., A Nightmare on ...   \n",
       "197235                        (Big Fish, All the Way Boys)   \n",
       "197234                                      (Rope, Psycho)   \n",
       "2541081  (Rain Man, Back to the Future Part II, The Hou...   \n",
       "2541116  (Sissi, Cockles and Muscles, 48 Hrs., A Nightm...   \n",
       "\n",
       "         antecedent support  consequent support   support  confidence  \\\n",
       "70961              0.087928            0.099851  0.070045    0.796610   \n",
       "70956              0.099851            0.087928  0.070045    0.701493   \n",
       "197232             0.092399            0.095380  0.070045    0.758065   \n",
       "197237             0.095380            0.092399  0.070045    0.734375   \n",
       "2541172            0.093890            0.098361  0.071535    0.761905   \n",
       "2541025            0.098361            0.093890  0.071535    0.727273   \n",
       "197235             0.098361            0.093890  0.070045    0.712121   \n",
       "197234             0.093890            0.098361  0.070045    0.746032   \n",
       "2541081            0.090909            0.104322  0.071535    0.786885   \n",
       "2541116            0.104322            0.090909  0.071535    0.685714   \n",
       "\n",
       "             lift  leverage  conviction  zhangs_metric  \n",
       "70961    7.977991  0.061265    4.425733       0.958976  \n",
       "70956    7.977991  0.061265    3.055440       0.971678  \n",
       "197232   7.947833  0.061232    3.739096       0.963176  \n",
       "197237   7.947833  0.061232    3.416849       0.966350  \n",
       "2541172  7.746032  0.062300    3.786885       0.961143  \n",
       "2541025  7.746032  0.062300    3.322404       0.965909  \n",
       "197235   7.584656  0.060810    3.147541       0.962863  \n",
       "197234   7.584656  0.060810    3.550205       0.958112  \n",
       "2541081  7.542857  0.062051    4.202797       0.954167  \n",
       "2541116  7.542857  0.062051    2.892562       0.968455  "
      ]
     },
     "execution_count": 65,
     "metadata": {},
     "output_type": "execute_result"
    }
   ],
   "source": [
    "df_lift.head(10)"
   ]
  },
  {
   "cell_type": "code",
   "execution_count": 101,
   "id": "6a2f3f54-74a3-49bf-a2ef-02b1d3b46933",
   "metadata": {
    "tags": []
   },
   "outputs": [],
   "source": [
    "pickle.dump(df_lift, open('apriori_df.pk1', 'wb'))"
   ]
  },
  {
   "cell_type": "code",
   "execution_count": 100,
   "id": "66b769ee-7da2-4457-9fba-c7dacba034a2",
   "metadata": {
    "tags": []
   },
   "outputs": [],
   "source": [
    "df_lift = df_lift.applymap(lambda x: 1 if x else 0)"
   ]
  },
  {
   "cell_type": "code",
   "execution_count": 69,
   "id": "2998df8a-948b-41a8-8b4d-d65d851cff36",
   "metadata": {
    "tags": []
   },
   "outputs": [
    {
     "data": {
      "text/html": [
       "<div>\n",
       "<style scoped>\n",
       "    .dataframe tbody tr th:only-of-type {\n",
       "        vertical-align: middle;\n",
       "    }\n",
       "\n",
       "    .dataframe tbody tr th {\n",
       "        vertical-align: top;\n",
       "    }\n",
       "\n",
       "    .dataframe thead th {\n",
       "        text-align: right;\n",
       "    }\n",
       "</style>\n",
       "<table border=\"1\" class=\"dataframe\">\n",
       "  <thead>\n",
       "    <tr style=\"text-align: right;\">\n",
       "      <th></th>\n",
       "      <th>antecedents</th>\n",
       "      <th>consequents</th>\n",
       "      <th>antecedent support</th>\n",
       "      <th>consequent support</th>\n",
       "      <th>support</th>\n",
       "      <th>confidence</th>\n",
       "      <th>lift</th>\n",
       "      <th>leverage</th>\n",
       "      <th>conviction</th>\n",
       "      <th>zhangs_metric</th>\n",
       "    </tr>\n",
       "  </thead>\n",
       "  <tbody>\n",
       "    <tr>\n",
       "      <th>63399</th>\n",
       "      <td>(Men in Black II)</td>\n",
       "      <td>(Nostalgia, Terminator 3: Rise of the Machines)</td>\n",
       "      <td>0.33383</td>\n",
       "      <td>0.080477</td>\n",
       "      <td>0.077496</td>\n",
       "      <td>0.232143</td>\n",
       "      <td>2.884590</td>\n",
       "      <td>0.050631</td>\n",
       "      <td>1.197518</td>\n",
       "      <td>0.980726</td>\n",
       "    </tr>\n",
       "    <tr>\n",
       "      <th>56667</th>\n",
       "      <td>(Men in Black II)</td>\n",
       "      <td>(Jarhead, Sleepless in Seattle)</td>\n",
       "      <td>0.33383</td>\n",
       "      <td>0.077496</td>\n",
       "      <td>0.073025</td>\n",
       "      <td>0.218750</td>\n",
       "      <td>2.822716</td>\n",
       "      <td>0.047155</td>\n",
       "      <td>1.180805</td>\n",
       "      <td>0.969319</td>\n",
       "    </tr>\n",
       "    <tr>\n",
       "      <th>63405</th>\n",
       "      <td>(Men in Black II)</td>\n",
       "      <td>(Nostalgia, The 39 Steps)</td>\n",
       "      <td>0.33383</td>\n",
       "      <td>0.080477</td>\n",
       "      <td>0.073025</td>\n",
       "      <td>0.218750</td>\n",
       "      <td>2.718171</td>\n",
       "      <td>0.046160</td>\n",
       "      <td>1.176990</td>\n",
       "      <td>0.948865</td>\n",
       "    </tr>\n",
       "    <tr>\n",
       "      <th>380666</th>\n",
       "      <td>(Men in Black II)</td>\n",
       "      <td>(Young and Innocent, The Talented Mr. Ripley, ...</td>\n",
       "      <td>0.33383</td>\n",
       "      <td>0.080477</td>\n",
       "      <td>0.073025</td>\n",
       "      <td>0.218750</td>\n",
       "      <td>2.718171</td>\n",
       "      <td>0.046160</td>\n",
       "      <td>1.176990</td>\n",
       "      <td>0.948865</td>\n",
       "    </tr>\n",
       "    <tr>\n",
       "      <th>1167106</th>\n",
       "      <td>(Men in Black II)</td>\n",
       "      <td>(Young and Innocent, The Talented Mr. Ripley, ...</td>\n",
       "      <td>0.33383</td>\n",
       "      <td>0.080477</td>\n",
       "      <td>0.073025</td>\n",
       "      <td>0.218750</td>\n",
       "      <td>2.718171</td>\n",
       "      <td>0.046160</td>\n",
       "      <td>1.176990</td>\n",
       "      <td>0.948865</td>\n",
       "    </tr>\n",
       "  </tbody>\n",
       "</table>\n",
       "</div>"
      ],
      "text/plain": [
       "               antecedents                                        consequents  \\\n",
       "63399    (Men in Black II)    (Nostalgia, Terminator 3: Rise of the Machines)   \n",
       "56667    (Men in Black II)                    (Jarhead, Sleepless in Seattle)   \n",
       "63405    (Men in Black II)                          (Nostalgia, The 39 Steps)   \n",
       "380666   (Men in Black II)  (Young and Innocent, The Talented Mr. Ripley, ...   \n",
       "1167106  (Men in Black II)  (Young and Innocent, The Talented Mr. Ripley, ...   \n",
       "\n",
       "         antecedent support  consequent support   support  confidence  \\\n",
       "63399               0.33383            0.080477  0.077496    0.232143   \n",
       "56667               0.33383            0.077496  0.073025    0.218750   \n",
       "63405               0.33383            0.080477  0.073025    0.218750   \n",
       "380666              0.33383            0.080477  0.073025    0.218750   \n",
       "1167106             0.33383            0.080477  0.073025    0.218750   \n",
       "\n",
       "             lift  leverage  conviction  zhangs_metric  \n",
       "63399    2.884590  0.050631    1.197518       0.980726  \n",
       "56667    2.822716  0.047155    1.180805       0.969319  \n",
       "63405    2.718171  0.046160    1.176990       0.948865  \n",
       "380666   2.718171  0.046160    1.176990       0.948865  \n",
       "1167106  2.718171  0.046160    1.176990       0.948865  "
      ]
     },
     "execution_count": 69,
     "metadata": {},
     "output_type": "execute_result"
    }
   ],
   "source": [
    "df_MIB = df_lift[df_lift['antecedents'].apply(lambda x: len(x) ==1 and next(iter(x)) == 'Men in Black II')]\n",
    "df_MIB = df_MIB[df_MIB['lift'] > 2]\n",
    "df_MIB.head()"
   ]
  },
  {
   "cell_type": "code",
   "execution_count": 70,
   "id": "508c34c5-83f2-437d-9c1e-eae5ab6174aa",
   "metadata": {
    "tags": []
   },
   "outputs": [],
   "source": [
    "movies = df_MIB['consequents'].values\n",
    "\n",
    "movie_list = []\n",
    "for movie in movies:\n",
    "    for title in movie:\n",
    "        if title not in movie_list:\n",
    "            movie_list.append(title)"
   ]
  },
  {
   "cell_type": "code",
   "execution_count": 71,
   "id": "8802b1d4-d2cd-4e88-a7a6-e8d6591267ef",
   "metadata": {
    "tags": []
   },
   "outputs": [
    {
     "data": {
      "text/plain": [
       "['Nostalgia',\n",
       " 'Terminator 3: Rise of the Machines',\n",
       " 'Jarhead',\n",
       " 'Sleepless in Seattle',\n",
       " 'The 39 Steps',\n",
       " 'Young and Innocent',\n",
       " 'The Talented Mr. Ripley',\n",
       " 'Point Break',\n",
       " 'Once Were Warriors',\n",
       " 'The Thomas Crown Affair']"
      ]
     },
     "execution_count": 71,
     "metadata": {},
     "output_type": "execute_result"
    }
   ],
   "source": [
    "movie_list[0:10]"
   ]
  },
  {
   "cell_type": "markdown",
   "id": "693ac0ed-a639-4671-abd5-16bf0fe402c3",
   "metadata": {},
   "source": [
    "## K-means Clustering"
   ]
  },
  {
   "cell_type": "code",
   "execution_count": 76,
   "id": "46c1d342-2514-4301-9d19-8e7281aecd2c",
   "metadata": {},
   "outputs": [],
   "source": [
    "import numpy as np\n",
    "import pandas as pd\n",
    "import pylab as pl\n",
    "from sklearn.cluster import KMeans\n",
    "from sklearn.decomposition import PCA\n",
    "import matplotlib.pyplot as plt\n",
    "import seaborn as sns\n",
    "%matplotlib inline"
   ]
  },
  {
   "cell_type": "code",
   "execution_count": 77,
   "id": "ee94587f-c492-4738-86ab-33848249800a",
   "metadata": {},
   "outputs": [],
   "source": [
    "df  = pd.read_csv('C:/Users/Owner/Desktop/LHL-final-project/uncleaned_csv/movies_metadata.csv', low_memory=False)"
   ]
  },
  {
   "cell_type": "code",
   "execution_count": 78,
   "id": "23a38333-14ab-410b-86f0-f93bcb84e3b3",
   "metadata": {
    "tags": []
   },
   "outputs": [],
   "source": [
    "df_numeric = df[['budget','popularity','revenue','runtime','vote_average','vote_count','title']]"
   ]
  },
  {
   "cell_type": "code",
   "execution_count": 79,
   "id": "d2c1055a-ac7f-45e3-83fb-47d23c7bd3dc",
   "metadata": {
    "tags": []
   },
   "outputs": [
    {
     "data": {
      "text/html": [
       "<div>\n",
       "<style scoped>\n",
       "    .dataframe tbody tr th:only-of-type {\n",
       "        vertical-align: middle;\n",
       "    }\n",
       "\n",
       "    .dataframe tbody tr th {\n",
       "        vertical-align: top;\n",
       "    }\n",
       "\n",
       "    .dataframe thead th {\n",
       "        text-align: right;\n",
       "    }\n",
       "</style>\n",
       "<table border=\"1\" class=\"dataframe\">\n",
       "  <thead>\n",
       "    <tr style=\"text-align: right;\">\n",
       "      <th></th>\n",
       "      <th>budget</th>\n",
       "      <th>popularity</th>\n",
       "      <th>revenue</th>\n",
       "      <th>runtime</th>\n",
       "      <th>vote_average</th>\n",
       "      <th>vote_count</th>\n",
       "      <th>title</th>\n",
       "    </tr>\n",
       "  </thead>\n",
       "  <tbody>\n",
       "    <tr>\n",
       "      <th>0</th>\n",
       "      <td>30000000</td>\n",
       "      <td>21.946943</td>\n",
       "      <td>373554033.0</td>\n",
       "      <td>81.0</td>\n",
       "      <td>7.7</td>\n",
       "      <td>5415.0</td>\n",
       "      <td>Toy Story</td>\n",
       "    </tr>\n",
       "    <tr>\n",
       "      <th>1</th>\n",
       "      <td>65000000</td>\n",
       "      <td>17.015539</td>\n",
       "      <td>262797249.0</td>\n",
       "      <td>104.0</td>\n",
       "      <td>6.9</td>\n",
       "      <td>2413.0</td>\n",
       "      <td>Jumanji</td>\n",
       "    </tr>\n",
       "    <tr>\n",
       "      <th>2</th>\n",
       "      <td>0</td>\n",
       "      <td>11.7129</td>\n",
       "      <td>0.0</td>\n",
       "      <td>101.0</td>\n",
       "      <td>6.5</td>\n",
       "      <td>92.0</td>\n",
       "      <td>Grumpier Old Men</td>\n",
       "    </tr>\n",
       "    <tr>\n",
       "      <th>3</th>\n",
       "      <td>16000000</td>\n",
       "      <td>3.859495</td>\n",
       "      <td>81452156.0</td>\n",
       "      <td>127.0</td>\n",
       "      <td>6.1</td>\n",
       "      <td>34.0</td>\n",
       "      <td>Waiting to Exhale</td>\n",
       "    </tr>\n",
       "    <tr>\n",
       "      <th>4</th>\n",
       "      <td>0</td>\n",
       "      <td>8.387519</td>\n",
       "      <td>76578911.0</td>\n",
       "      <td>106.0</td>\n",
       "      <td>5.7</td>\n",
       "      <td>173.0</td>\n",
       "      <td>Father of the Bride Part II</td>\n",
       "    </tr>\n",
       "  </tbody>\n",
       "</table>\n",
       "</div>"
      ],
      "text/plain": [
       "     budget popularity      revenue  runtime  vote_average  vote_count  \\\n",
       "0  30000000  21.946943  373554033.0     81.0           7.7      5415.0   \n",
       "1  65000000  17.015539  262797249.0    104.0           6.9      2413.0   \n",
       "2         0    11.7129          0.0    101.0           6.5        92.0   \n",
       "3  16000000   3.859495   81452156.0    127.0           6.1        34.0   \n",
       "4         0   8.387519   76578911.0    106.0           5.7       173.0   \n",
       "\n",
       "                         title  \n",
       "0                    Toy Story  \n",
       "1                      Jumanji  \n",
       "2             Grumpier Old Men  \n",
       "3            Waiting to Exhale  \n",
       "4  Father of the Bride Part II  "
      ]
     },
     "execution_count": 79,
     "metadata": {},
     "output_type": "execute_result"
    }
   ],
   "source": [
    "df_numeric.head()"
   ]
  },
  {
   "cell_type": "code",
   "execution_count": 80,
   "id": "79c217d6-e74a-4108-b089-e6f3be95667a",
   "metadata": {
    "tags": []
   },
   "outputs": [
    {
     "data": {
      "text/plain": [
       "budget            0\n",
       "popularity        5\n",
       "revenue           6\n",
       "runtime         263\n",
       "vote_average      6\n",
       "vote_count        6\n",
       "title             6\n",
       "dtype: int64"
      ]
     },
     "execution_count": 80,
     "metadata": {},
     "output_type": "execute_result"
    }
   ],
   "source": [
    "df_numeric.isnull().sum()"
   ]
  },
  {
   "cell_type": "code",
   "execution_count": 81,
   "id": "371a6897-0680-4e56-9450-36e7e190115c",
   "metadata": {
    "tags": []
   },
   "outputs": [
    {
     "name": "stderr",
     "output_type": "stream",
     "text": [
      "C:\\Users\\Owner\\AppData\\Local\\Temp\\ipykernel_12196\\2939391043.py:1: SettingWithCopyWarning: \n",
      "A value is trying to be set on a copy of a slice from a DataFrame\n",
      "\n",
      "See the caveats in the documentation: https://pandas.pydata.org/pandas-docs/stable/user_guide/indexing.html#returning-a-view-versus-a-copy\n",
      "  df_numeric.dropna(inplace=True)\n"
     ]
    }
   ],
   "source": [
    "df_numeric.dropna(inplace=True)"
   ]
  },
  {
   "cell_type": "code",
   "execution_count": 82,
   "id": "b9b6cd49-124e-473a-9e74-e0b8a54838a4",
   "metadata": {
    "tags": []
   },
   "outputs": [
    {
     "data": {
      "text/plain": [
       "count    45203.000000\n",
       "mean       110.506515\n",
       "std        492.638190\n",
       "min          0.000000\n",
       "25%          3.000000\n",
       "50%         10.000000\n",
       "75%         34.000000\n",
       "max      14075.000000\n",
       "Name: vote_count, dtype: float64"
      ]
     },
     "execution_count": 82,
     "metadata": {},
     "output_type": "execute_result"
    }
   ],
   "source": [
    "df_numeric['vote_count'].describe()"
   ]
  },
  {
   "cell_type": "code",
   "execution_count": 83,
   "id": "f65a221f-ac3f-42da-b5ec-cfb6236fd102",
   "metadata": {
    "tags": []
   },
   "outputs": [
    {
     "data": {
      "text/plain": [
       "0.74      32.00\n",
       "0.75      34.00\n",
       "0.76      37.00\n",
       "0.77      40.00\n",
       "0.78      43.00\n",
       "0.79      46.00\n",
       "0.80      51.00\n",
       "0.81      55.00\n",
       "0.82      61.00\n",
       "0.83      67.00\n",
       "0.84      74.00\n",
       "0.85      83.00\n",
       "0.86      92.00\n",
       "0.87     104.74\n",
       "0.88     119.00\n",
       "0.89     139.00\n",
       "0.90     161.00\n",
       "0.91     193.00\n",
       "0.92     230.00\n",
       "0.93     283.00\n",
       "0.94     349.00\n",
       "0.95     435.90\n",
       "0.96     581.00\n",
       "0.97     827.94\n",
       "0.98    1243.88\n",
       "0.99    2196.84\n",
       "Name: vote_count, dtype: float64"
      ]
     },
     "execution_count": 83,
     "metadata": {},
     "output_type": "execute_result"
    }
   ],
   "source": [
    "df_numeric['vote_count'].quantile(np.arange(.74,1,0.01))"
   ]
  },
  {
   "cell_type": "code",
   "execution_count": 84,
   "id": "f0422e6a-d1ae-4991-a89e-e193e9242bf8",
   "metadata": {
    "tags": []
   },
   "outputs": [],
   "source": [
    "df_numeric = df_numeric[df_numeric['vote_count']>30]"
   ]
  },
  {
   "cell_type": "code",
   "execution_count": 85,
   "id": "79324703-c94e-4694-9519-899dc3bdfadf",
   "metadata": {
    "tags": []
   },
   "outputs": [
    {
     "data": {
      "text/plain": [
       "(12178, 7)"
      ]
     },
     "execution_count": 85,
     "metadata": {},
     "output_type": "execute_result"
    }
   ],
   "source": [
    "df_numeric.shape"
   ]
  },
  {
   "cell_type": "markdown",
   "id": "388604c0-7326-4b90-88e5-caa1adb4b8e1",
   "metadata": {},
   "source": [
    "# Normalize data\n",
    "#### Normalize the data with MinMax scaling provided by sklearn"
   ]
  },
  {
   "cell_type": "code",
   "execution_count": 86,
   "id": "3170f691-e101-4dd8-913d-3988da162564",
   "metadata": {
    "tags": []
   },
   "outputs": [],
   "source": [
    "from sklearn import preprocessing"
   ]
  },
  {
   "cell_type": "code",
   "execution_count": 87,
   "id": "03c65fae-f4a7-4760-a930-317c36c1ee5d",
   "metadata": {
    "tags": []
   },
   "outputs": [],
   "source": [
    "minmax_processed = preprocessing.MinMaxScaler().fit_transform(df_numeric.drop('title',axis=1))\n",
    "df_numeric_scaled = pd.DataFrame(minmax_processed, index=df_numeric.index, columns=df_numeric.columns[:-1])"
   ]
  },
  {
   "cell_type": "code",
   "execution_count": 88,
   "id": "b8f9860d-8a06-411b-8d7e-b42fcb5d0847",
   "metadata": {
    "tags": []
   },
   "outputs": [
    {
     "data": {
      "text/html": [
       "<div>\n",
       "<style scoped>\n",
       "    .dataframe tbody tr th:only-of-type {\n",
       "        vertical-align: middle;\n",
       "    }\n",
       "\n",
       "    .dataframe tbody tr th {\n",
       "        vertical-align: top;\n",
       "    }\n",
       "\n",
       "    .dataframe thead th {\n",
       "        text-align: right;\n",
       "    }\n",
       "</style>\n",
       "<table border=\"1\" class=\"dataframe\">\n",
       "  <thead>\n",
       "    <tr style=\"text-align: right;\">\n",
       "      <th></th>\n",
       "      <th>budget</th>\n",
       "      <th>popularity</th>\n",
       "      <th>revenue</th>\n",
       "      <th>runtime</th>\n",
       "      <th>vote_average</th>\n",
       "      <th>vote_count</th>\n",
       "    </tr>\n",
       "  </thead>\n",
       "  <tbody>\n",
       "    <tr>\n",
       "      <th>0</th>\n",
       "      <td>0.078947</td>\n",
       "      <td>0.040082</td>\n",
       "      <td>0.133988</td>\n",
       "      <td>0.092360</td>\n",
       "      <td>0.810526</td>\n",
       "      <td>0.383367</td>\n",
       "    </tr>\n",
       "    <tr>\n",
       "      <th>1</th>\n",
       "      <td>0.171053</td>\n",
       "      <td>0.031075</td>\n",
       "      <td>0.094261</td>\n",
       "      <td>0.118586</td>\n",
       "      <td>0.726316</td>\n",
       "      <td>0.169610</td>\n",
       "    </tr>\n",
       "    <tr>\n",
       "      <th>2</th>\n",
       "      <td>0.000000</td>\n",
       "      <td>0.021389</td>\n",
       "      <td>0.000000</td>\n",
       "      <td>0.115165</td>\n",
       "      <td>0.684211</td>\n",
       "      <td>0.004343</td>\n",
       "    </tr>\n",
       "    <tr>\n",
       "      <th>3</th>\n",
       "      <td>0.042105</td>\n",
       "      <td>0.007045</td>\n",
       "      <td>0.029216</td>\n",
       "      <td>0.144812</td>\n",
       "      <td>0.642105</td>\n",
       "      <td>0.000214</td>\n",
       "    </tr>\n",
       "    <tr>\n",
       "      <th>4</th>\n",
       "      <td>0.000000</td>\n",
       "      <td>0.015315</td>\n",
       "      <td>0.027468</td>\n",
       "      <td>0.120867</td>\n",
       "      <td>0.600000</td>\n",
       "      <td>0.010111</td>\n",
       "    </tr>\n",
       "  </tbody>\n",
       "</table>\n",
       "</div>"
      ],
      "text/plain": [
       "     budget  popularity   revenue   runtime  vote_average  vote_count\n",
       "0  0.078947    0.040082  0.133988  0.092360      0.810526    0.383367\n",
       "1  0.171053    0.031075  0.094261  0.118586      0.726316    0.169610\n",
       "2  0.000000    0.021389  0.000000  0.115165      0.684211    0.004343\n",
       "3  0.042105    0.007045  0.029216  0.144812      0.642105    0.000214\n",
       "4  0.000000    0.015315  0.027468  0.120867      0.600000    0.010111"
      ]
     },
     "execution_count": 88,
     "metadata": {},
     "output_type": "execute_result"
    }
   ],
   "source": [
    "df_numeric_scaled.head()"
   ]
  },
  {
   "cell_type": "markdown",
   "id": "bd9913b6-1543-458a-b0f8-754caa6c522b",
   "metadata": {},
   "source": [
    "# Apply K-Means Clustering"
   ]
  },
  {
   "cell_type": "code",
   "execution_count": 89,
   "id": "0fae8e4f-f5f3-434a-8212-fa8d25e0e7c8",
   "metadata": {
    "tags": []
   },
   "outputs": [],
   "source": [
    "Nc = range(1, 20)\n",
    "kmeans = [KMeans(n_clusters=i, n_init=10) for i in Nc]\n",
    "score = [kmeans[i].fit(df_numeric_scaled).score(df_numeric_scaled) for i in range(len(kmeans))]"
   ]
  },
  {
   "cell_type": "code",
   "execution_count": 90,
   "id": "591c96f6-515e-4ac6-b330-31125ebb739e",
   "metadata": {
    "tags": []
   },
   "outputs": [
    {
     "data": {
      "image/png": "[encoded data removed]",
      "text/plain": [
       "<Figure size 640x480 with 1 Axes>"
      ]
     },
     "metadata": {},
     "output_type": "display_data"
    }
   ],
   "source": [
    "pl.plot(Nc,score)\n",
    "pl.xlabel('Number of Clusters')\n",
    "pl.ylabel('Score')\n",
    "pl.title('Elbow Curve')\n",
    "pl.show()"
   ]
  },
  {
   "cell_type": "markdown",
   "id": "a5634552-699f-4fe3-aea1-1a4e989a4f81",
   "metadata": {},
   "source": [
    "##### The Elbow Point is around cluster 5 and we will be using k=5 to interpret the cluster result. "
   ]
  },
  {
   "cell_type": "code",
   "execution_count": 91,
   "id": "62e8024b-1636-4fdf-9632-97b0214663ac",
   "metadata": {
    "tags": []
   },
   "outputs": [
    {
     "data": {
      "text/html": [
       "<style>#sk-container-id-2 {color: black;}#sk-container-id-2 pre{padding: 0;}#sk-container-id-2 div.sk-toggleable {background-color: white;}#sk-container-id-2 label.sk-toggleable__label {cursor: pointer;display: block;width: 100%;margin-bottom: 0;padding: 0.3em;box-sizing: border-box;text-align: center;}#sk-container-id-2 label.sk-toggleable__label-arrow:before {content: \"▸\";float: left;margin-right: 0.25em;color: #696969;}#sk-container-id-2 label.sk-toggleable__label-arrow:hover:before {color: black;}#sk-container-id-2 div.sk-estimator:hover label.sk-toggleable__label-arrow:before {color: black;}#sk-container-id-2 div.sk-toggleable__content {max-height: 0;max-width: 0;overflow: hidden;text-align: left;background-color: #f0f8ff;}#sk-container-id-2 div.sk-toggleable__content pre {margin: 0.2em;color: black;border-radius: 0.25em;background-color: #f0f8ff;}#sk-container-id-2 input.sk-toggleable__control:checked~div.sk-toggleable__content {max-height: 200px;max-width: 100%;overflow: auto;}#sk-container-id-2 input.sk-toggleable__control:checked~label.sk-toggleable__label-arrow:before {content: \"▾\";}#sk-container-id-2 div.sk-estimator input.sk-toggleable__control:checked~label.sk-toggleable__label {background-color: #d4ebff;}#sk-container-id-2 div.sk-label input.sk-toggleable__control:checked~label.sk-toggleable__label {background-color: #d4ebff;}#sk-container-id-2 input.sk-hidden--visually {border: 0;clip: rect(1px 1px 1px 1px);clip: rect(1px, 1px, 1px, 1px);height: 1px;margin: -1px;overflow: hidden;padding: 0;position: absolute;width: 1px;}#sk-container-id-2 div.sk-estimator {font-family: monospace;background-color: #f0f8ff;border: 1px dotted black;border-radius: 0.25em;box-sizing: border-box;margin-bottom: 0.5em;}#sk-container-id-2 div.sk-estimator:hover {background-color: #d4ebff;}#sk-container-id-2 div.sk-parallel-item::after {content: \"\";width: 100%;border-bottom: 1px solid gray;flex-grow: 1;}#sk-container-id-2 div.sk-label:hover label.sk-toggleable__label {background-color: #d4ebff;}#sk-container-id-2 div.sk-serial::before {content: \"\";position: absolute;border-left: 1px solid gray;box-sizing: border-box;top: 0;bottom: 0;left: 50%;z-index: 0;}#sk-container-id-2 div.sk-serial {display: flex;flex-direction: column;align-items: center;background-color: white;padding-right: 0.2em;padding-left: 0.2em;position: relative;}#sk-container-id-2 div.sk-item {position: relative;z-index: 1;}#sk-container-id-2 div.sk-parallel {display: flex;align-items: stretch;justify-content: center;background-color: white;position: relative;}#sk-container-id-2 div.sk-item::before, #sk-container-id-2 div.sk-parallel-item::before {content: \"\";position: absolute;border-left: 1px solid gray;box-sizing: border-box;top: 0;bottom: 0;left: 50%;z-index: -1;}#sk-container-id-2 div.sk-parallel-item {display: flex;flex-direction: column;z-index: 1;position: relative;background-color: white;}#sk-container-id-2 div.sk-parallel-item:first-child::after {align-self: flex-end;width: 50%;}#sk-container-id-2 div.sk-parallel-item:last-child::after {align-self: flex-start;width: 50%;}#sk-container-id-2 div.sk-parallel-item:only-child::after {width: 0;}#sk-container-id-2 div.sk-dashed-wrapped {border: 1px dashed gray;margin: 0 0.4em 0.5em 0.4em;box-sizing: border-box;padding-bottom: 0.4em;background-color: white;}#sk-container-id-2 div.sk-label label {font-family: monospace;font-weight: bold;display: inline-block;line-height: 1.2em;}#sk-container-id-2 div.sk-label-container {text-align: center;}#sk-container-id-2 div.sk-container {/* jupyter's `normalize.less` sets `[hidden] { display: none; }` but bootstrap.min.css set `[hidden] { display: none !important; }` so we also need the `!important` here to be able to override the default hidden behavior on the sphinx rendered scikit-learn.org. See: https://github.com/scikit-learn/scikit-learn/issues/21755 */display: inline-block !important;position: relative;}#sk-container-id-2 div.sk-text-repr-fallback {display: none;}</style><div id=\"sk-container-id-2\" class=\"sk-top-container\"><div class=\"sk-text-repr-fallback\"><pre>KMeans(n_clusters=5, n_init=10)</pre><b>In a Jupyter environment, please rerun this cell to show the HTML representation or trust the notebook. <br />On GitHub, the HTML representation is unable to render, please try loading this page with nbviewer.org.</b></div><div class=\"sk-container\" hidden><div class=\"sk-item\"><div class=\"sk-estimator sk-toggleable\"><input class=\"sk-toggleable__control sk-hidden--visually\" id=\"sk-estimator-id-2\" type=\"checkbox\" checked><label for=\"sk-estimator-id-2\" class=\"sk-toggleable__label sk-toggleable__label-arrow\">KMeans</label><div class=\"sk-toggleable__content\"><pre>KMeans(n_clusters=5, n_init=10)</pre></div></div></div></div></div>"
      ],
      "text/plain": [
       "KMeans(n_clusters=5, n_init=10)"
      ]
     },
     "execution_count": 91,
     "metadata": {},
     "output_type": "execute_result"
    }
   ],
   "source": [
    "kmeans = KMeans(n_clusters=5, n_init=10)\n",
    "kmeans.fit(df_numeric_scaled)"
   ]
  },
  {
   "cell_type": "code",
   "execution_count": 92,
   "id": "13511560-6d45-4358-9012-d7a0ade368d3",
   "metadata": {
    "tags": []
   },
   "outputs": [
    {
     "data": {
      "text/plain": [
       "12178"
      ]
     },
     "execution_count": 92,
     "metadata": {},
     "output_type": "execute_result"
    }
   ],
   "source": [
    "len(kmeans.labels_)"
   ]
  },
  {
   "cell_type": "code",
   "execution_count": 93,
   "id": "dab4f51f-c9b3-4ee9-8ebd-180e0d4f773a",
   "metadata": {
    "tags": []
   },
   "outputs": [
    {
     "data": {
      "text/html": [
       "<div>\n",
       "<style scoped>\n",
       "    .dataframe tbody tr th:only-of-type {\n",
       "        vertical-align: middle;\n",
       "    }\n",
       "\n",
       "    .dataframe tbody tr th {\n",
       "        vertical-align: top;\n",
       "    }\n",
       "\n",
       "    .dataframe thead th {\n",
       "        text-align: right;\n",
       "    }\n",
       "</style>\n",
       "<table border=\"1\" class=\"dataframe\">\n",
       "  <thead>\n",
       "    <tr style=\"text-align: right;\">\n",
       "      <th></th>\n",
       "      <th>budget</th>\n",
       "      <th>popularity</th>\n",
       "      <th>revenue</th>\n",
       "      <th>runtime</th>\n",
       "      <th>vote_average</th>\n",
       "      <th>vote_count</th>\n",
       "      <th>title</th>\n",
       "      <th>cluster</th>\n",
       "    </tr>\n",
       "  </thead>\n",
       "  <tbody>\n",
       "    <tr>\n",
       "      <th>0</th>\n",
       "      <td>30000000</td>\n",
       "      <td>21.946943</td>\n",
       "      <td>373554033.0</td>\n",
       "      <td>81.0</td>\n",
       "      <td>7.7</td>\n",
       "      <td>5415.0</td>\n",
       "      <td>Toy Story</td>\n",
       "      <td>3</td>\n",
       "    </tr>\n",
       "    <tr>\n",
       "      <th>1</th>\n",
       "      <td>65000000</td>\n",
       "      <td>17.015539</td>\n",
       "      <td>262797249.0</td>\n",
       "      <td>104.0</td>\n",
       "      <td>6.9</td>\n",
       "      <td>2413.0</td>\n",
       "      <td>Jumanji</td>\n",
       "      <td>1</td>\n",
       "    </tr>\n",
       "    <tr>\n",
       "      <th>2</th>\n",
       "      <td>0</td>\n",
       "      <td>11.7129</td>\n",
       "      <td>0.0</td>\n",
       "      <td>101.0</td>\n",
       "      <td>6.5</td>\n",
       "      <td>92.0</td>\n",
       "      <td>Grumpier Old Men</td>\n",
       "      <td>0</td>\n",
       "    </tr>\n",
       "    <tr>\n",
       "      <th>3</th>\n",
       "      <td>16000000</td>\n",
       "      <td>3.859495</td>\n",
       "      <td>81452156.0</td>\n",
       "      <td>127.0</td>\n",
       "      <td>6.1</td>\n",
       "      <td>34.0</td>\n",
       "      <td>Waiting to Exhale</td>\n",
       "      <td>0</td>\n",
       "    </tr>\n",
       "    <tr>\n",
       "      <th>4</th>\n",
       "      <td>0</td>\n",
       "      <td>8.387519</td>\n",
       "      <td>76578911.0</td>\n",
       "      <td>106.0</td>\n",
       "      <td>5.7</td>\n",
       "      <td>173.0</td>\n",
       "      <td>Father of the Bride Part II</td>\n",
       "      <td>0</td>\n",
       "    </tr>\n",
       "  </tbody>\n",
       "</table>\n",
       "</div>"
      ],
      "text/plain": [
       "     budget popularity      revenue  runtime  vote_average  vote_count  \\\n",
       "0  30000000  21.946943  373554033.0     81.0           7.7      5415.0   \n",
       "1  65000000  17.015539  262797249.0    104.0           6.9      2413.0   \n",
       "2         0    11.7129          0.0    101.0           6.5        92.0   \n",
       "3  16000000   3.859495   81452156.0    127.0           6.1        34.0   \n",
       "4         0   8.387519   76578911.0    106.0           5.7       173.0   \n",
       "\n",
       "                         title  cluster  \n",
       "0                    Toy Story        3  \n",
       "1                      Jumanji        1  \n",
       "2             Grumpier Old Men        0  \n",
       "3            Waiting to Exhale        0  \n",
       "4  Father of the Bride Part II        0  "
      ]
     },
     "execution_count": 93,
     "metadata": {},
     "output_type": "execute_result"
    }
   ],
   "source": [
    "df_numeric['cluster'] = kmeans.labels_\n",
    "df_numeric.head()"
   ]
  },
  {
   "cell_type": "code",
   "execution_count": 94,
   "id": "98eb1ec7-c597-411c-9d3b-739b7823165a",
   "metadata": {
    "tags": []
   },
   "outputs": [
    {
     "data": {
      "image/png": "[encoded data removed]",
      "text/plain": [
       "<Figure size 1200x700 with 1 Axes>"
      ]
     },
     "metadata": {},
     "output_type": "display_data"
    }
   ],
   "source": [
    "plt.figure(figsize=(12,7))\n",
    "axis = sns.barplot(x=np.arange(0,5,1),y=df_numeric.groupby(['cluster']).count()['budget'].values)\n",
    "x=axis.set_xlabel(\"Cluster Number\")\n",
    "x=axis.set_ylabel(\"Number of movies\")"
   ]
  },
  {
   "cell_type": "markdown",
   "id": "31af1c43-5ffa-4532-9db4-6d01c8b6c2af",
   "metadata": {},
   "source": [
    "We can see that cluster 3 is the largest and cluster 2 has the smallest number of movies"
   ]
  },
  {
   "cell_type": "code",
   "execution_count": 95,
   "id": "f83d7fdf-c40d-44e2-884d-9a5bc874fdc8",
   "metadata": {
    "tags": []
   },
   "outputs": [],
   "source": [
    "size_array = list(df_numeric.groupby(['cluster']).count()['budget'].values)"
   ]
  },
  {
   "cell_type": "code",
   "execution_count": 96,
   "id": "60efc210-9529-4b24-8d71-58e341329b2f",
   "metadata": {
    "tags": []
   },
   "outputs": [
    {
     "data": {
      "text/plain": [
       "[4797, 1111, 2271, 257, 3742]"
      ]
     },
     "execution_count": 96,
     "metadata": {},
     "output_type": "execute_result"
    }
   ],
   "source": [
    "size_array"
   ]
  },
  {
   "cell_type": "code",
   "execution_count": 97,
   "id": "49d78f6f-bc38-4e2c-a07e-00746ec708c9",
   "metadata": {
    "tags": []
   },
   "outputs": [
    {
     "data": {
      "text/html": [
       "<div>\n",
       "<style scoped>\n",
       "    .dataframe tbody tr th:only-of-type {\n",
       "        vertical-align: middle;\n",
       "    }\n",
       "\n",
       "    .dataframe tbody tr th {\n",
       "        vertical-align: top;\n",
       "    }\n",
       "\n",
       "    .dataframe thead th {\n",
       "        text-align: right;\n",
       "    }\n",
       "</style>\n",
       "<table border=\"1\" class=\"dataframe\">\n",
       "  <thead>\n",
       "    <tr style=\"text-align: right;\">\n",
       "      <th></th>\n",
       "      <th>budget</th>\n",
       "      <th>popularity</th>\n",
       "      <th>revenue</th>\n",
       "      <th>runtime</th>\n",
       "      <th>vote_average</th>\n",
       "      <th>vote_count</th>\n",
       "      <th>title</th>\n",
       "      <th>cluster</th>\n",
       "    </tr>\n",
       "  </thead>\n",
       "  <tbody>\n",
       "    <tr>\n",
       "      <th>23359</th>\n",
       "      <td>250000000</td>\n",
       "      <td>26.058586</td>\n",
       "      <td>747862775.0</td>\n",
       "      <td>131.0</td>\n",
       "      <td>7.5</td>\n",
       "      <td>6155.0</td>\n",
       "      <td>X-Men: Days of Future Past</td>\n",
       "      <td>3</td>\n",
       "    </tr>\n",
       "    <tr>\n",
       "      <th>10069</th>\n",
       "      <td>113000000</td>\n",
       "      <td>13.165421</td>\n",
       "      <td>850000000.0</td>\n",
       "      <td>140.0</td>\n",
       "      <td>7.1</td>\n",
       "      <td>4200.0</td>\n",
       "      <td>Star Wars: Episode III - Revenge of the Sith</td>\n",
       "      <td>3</td>\n",
       "    </tr>\n",
       "    <tr>\n",
       "      <th>11927</th>\n",
       "      <td>150000000</td>\n",
       "      <td>21.3643</td>\n",
       "      <td>938212738.0</td>\n",
       "      <td>138.0</td>\n",
       "      <td>7.4</td>\n",
       "      <td>5633.0</td>\n",
       "      <td>Harry Potter and the Order of the Phoenix</td>\n",
       "      <td>3</td>\n",
       "    </tr>\n",
       "    <tr>\n",
       "      <th>44842</th>\n",
       "      <td>260000000</td>\n",
       "      <td>39.186819</td>\n",
       "      <td>604942143.0</td>\n",
       "      <td>149.0</td>\n",
       "      <td>6.2</td>\n",
       "      <td>1440.0</td>\n",
       "      <td>Transformers: The Last Knight</td>\n",
       "      <td>3</td>\n",
       "    </tr>\n",
       "    <tr>\n",
       "      <th>12625</th>\n",
       "      <td>185000000</td>\n",
       "      <td>12.577266</td>\n",
       "      <td>786636033.0</td>\n",
       "      <td>122.0</td>\n",
       "      <td>5.7</td>\n",
       "      <td>2558.0</td>\n",
       "      <td>Indiana Jones and the Kingdom of the Crystal S...</td>\n",
       "      <td>3</td>\n",
       "    </tr>\n",
       "  </tbody>\n",
       "</table>\n",
       "</div>"
      ],
      "text/plain": [
       "          budget popularity      revenue  runtime  vote_average  vote_count  \\\n",
       "23359  250000000  26.058586  747862775.0    131.0           7.5      6155.0   \n",
       "10069  113000000  13.165421  850000000.0    140.0           7.1      4200.0   \n",
       "11927  150000000    21.3643  938212738.0    138.0           7.4      5633.0   \n",
       "44842  260000000  39.186819  604942143.0    149.0           6.2      1440.0   \n",
       "12625  185000000  12.577266  786636033.0    122.0           5.7      2558.0   \n",
       "\n",
       "                                                   title  cluster  \n",
       "23359                         X-Men: Days of Future Past        3  \n",
       "10069       Star Wars: Episode III - Revenge of the Sith        3  \n",
       "11927          Harry Potter and the Order of the Phoenix        3  \n",
       "44842                      Transformers: The Last Knight        3  \n",
       "12625  Indiana Jones and the Kingdom of the Crystal S...        3  "
      ]
     },
     "execution_count": 97,
     "metadata": {},
     "output_type": "execute_result"
    }
   ],
   "source": [
    "df_numeric[df_numeric['cluster']==size_array.index(sorted(size_array)[0])].sample(5)"
   ]
  },
  {
   "cell_type": "markdown",
   "id": "28c305e9-b9f6-4b4e-9143-2e2ea89f359d",
   "metadata": {},
   "source": [
    "The smallest cluster will have higher budget, popularity, revenue, runtime, vote_average, and vote_count."
   ]
  },
  {
   "cell_type": "code",
   "execution_count": 98,
   "id": "26070c91-5deb-44f7-b564-18e08cbdcf07",
   "metadata": {},
   "outputs": [],
   "source": [
    "pickle.dump(df_numeric, open('df_numeric.pk1', 'wb'))"
   ]
  },
  {
   "cell_type": "code",
   "execution_count": 99,
   "id": "612b7337-41c2-42e5-8062-a332e741c2db",
   "metadata": {},
   "outputs": [
    {
     "data": {
      "text/html": [
       "<div>\n",
       "<style scoped>\n",
       "    .dataframe tbody tr th:only-of-type {\n",
       "        vertical-align: middle;\n",
       "    }\n",
       "\n",
       "    .dataframe tbody tr th {\n",
       "        vertical-align: top;\n",
       "    }\n",
       "\n",
       "    .dataframe thead th {\n",
       "        text-align: right;\n",
       "    }\n",
       "</style>\n",
       "<table border=\"1\" class=\"dataframe\">\n",
       "  <thead>\n",
       "    <tr style=\"text-align: right;\">\n",
       "      <th></th>\n",
       "      <th>budget</th>\n",
       "      <th>popularity</th>\n",
       "      <th>revenue</th>\n",
       "      <th>runtime</th>\n",
       "      <th>vote_average</th>\n",
       "      <th>vote_count</th>\n",
       "      <th>title</th>\n",
       "      <th>cluster</th>\n",
       "    </tr>\n",
       "  </thead>\n",
       "  <tbody>\n",
       "    <tr>\n",
       "      <th>0</th>\n",
       "      <td>30000000</td>\n",
       "      <td>21.946943</td>\n",
       "      <td>373554033.0</td>\n",
       "      <td>81.0</td>\n",
       "      <td>7.7</td>\n",
       "      <td>5415.0</td>\n",
       "      <td>Toy Story</td>\n",
       "      <td>3</td>\n",
       "    </tr>\n",
       "    <tr>\n",
       "      <th>1</th>\n",
       "      <td>65000000</td>\n",
       "      <td>17.015539</td>\n",
       "      <td>262797249.0</td>\n",
       "      <td>104.0</td>\n",
       "      <td>6.9</td>\n",
       "      <td>2413.0</td>\n",
       "      <td>Jumanji</td>\n",
       "      <td>1</td>\n",
       "    </tr>\n",
       "    <tr>\n",
       "      <th>2</th>\n",
       "      <td>0</td>\n",
       "      <td>11.7129</td>\n",
       "      <td>0.0</td>\n",
       "      <td>101.0</td>\n",
       "      <td>6.5</td>\n",
       "      <td>92.0</td>\n",
       "      <td>Grumpier Old Men</td>\n",
       "      <td>0</td>\n",
       "    </tr>\n",
       "    <tr>\n",
       "      <th>3</th>\n",
       "      <td>16000000</td>\n",
       "      <td>3.859495</td>\n",
       "      <td>81452156.0</td>\n",
       "      <td>127.0</td>\n",
       "      <td>6.1</td>\n",
       "      <td>34.0</td>\n",
       "      <td>Waiting to Exhale</td>\n",
       "      <td>0</td>\n",
       "    </tr>\n",
       "    <tr>\n",
       "      <th>4</th>\n",
       "      <td>0</td>\n",
       "      <td>8.387519</td>\n",
       "      <td>76578911.0</td>\n",
       "      <td>106.0</td>\n",
       "      <td>5.7</td>\n",
       "      <td>173.0</td>\n",
       "      <td>Father of the Bride Part II</td>\n",
       "      <td>0</td>\n",
       "    </tr>\n",
       "    <tr>\n",
       "      <th>...</th>\n",
       "      <td>...</td>\n",
       "      <td>...</td>\n",
       "      <td>...</td>\n",
       "      <td>...</td>\n",
       "      <td>...</td>\n",
       "      <td>...</td>\n",
       "      <td>...</td>\n",
       "      <td>...</td>\n",
       "    </tr>\n",
       "    <tr>\n",
       "      <th>45353</th>\n",
       "      <td>0</td>\n",
       "      <td>2.302582</td>\n",
       "      <td>0.0</td>\n",
       "      <td>92.0</td>\n",
       "      <td>5.9</td>\n",
       "      <td>33.0</td>\n",
       "      <td>Frankenstein Created Woman</td>\n",
       "      <td>0</td>\n",
       "    </tr>\n",
       "    <tr>\n",
       "      <th>45373</th>\n",
       "      <td>0</td>\n",
       "      <td>9.222308</td>\n",
       "      <td>0.0</td>\n",
       "      <td>83.0</td>\n",
       "      <td>6.0</td>\n",
       "      <td>38.0</td>\n",
       "      <td>Take Me</td>\n",
       "      <td>0</td>\n",
       "    </tr>\n",
       "    <tr>\n",
       "      <th>45380</th>\n",
       "      <td>0</td>\n",
       "      <td>5.667067</td>\n",
       "      <td>0.0</td>\n",
       "      <td>83.0</td>\n",
       "      <td>6.2</td>\n",
       "      <td>37.0</td>\n",
       "      <td>The Incredible Jessica James</td>\n",
       "      <td>0</td>\n",
       "    </tr>\n",
       "    <tr>\n",
       "      <th>45437</th>\n",
       "      <td>0</td>\n",
       "      <td>20.82178</td>\n",
       "      <td>0.0</td>\n",
       "      <td>4.0</td>\n",
       "      <td>8.3</td>\n",
       "      <td>146.0</td>\n",
       "      <td>In a Heartbeat</td>\n",
       "      <td>4</td>\n",
       "    </tr>\n",
       "    <tr>\n",
       "      <th>45441</th>\n",
       "      <td>0</td>\n",
       "      <td>4.392389</td>\n",
       "      <td>0.0</td>\n",
       "      <td>101.0</td>\n",
       "      <td>5.2</td>\n",
       "      <td>145.0</td>\n",
       "      <td>Cadet Kelly</td>\n",
       "      <td>2</td>\n",
       "    </tr>\n",
       "  </tbody>\n",
       "</table>\n",
       "<p>12178 rows × 8 columns</p>\n",
       "</div>"
      ],
      "text/plain": [
       "         budget popularity      revenue  runtime  vote_average  vote_count  \\\n",
       "0      30000000  21.946943  373554033.0     81.0           7.7      5415.0   \n",
       "1      65000000  17.015539  262797249.0    104.0           6.9      2413.0   \n",
       "2             0    11.7129          0.0    101.0           6.5        92.0   \n",
       "3      16000000   3.859495   81452156.0    127.0           6.1        34.0   \n",
       "4             0   8.387519   76578911.0    106.0           5.7       173.0   \n",
       "...         ...        ...          ...      ...           ...         ...   \n",
       "45353         0   2.302582          0.0     92.0           5.9        33.0   \n",
       "45373         0   9.222308          0.0     83.0           6.0        38.0   \n",
       "45380         0   5.667067          0.0     83.0           6.2        37.0   \n",
       "45437         0   20.82178          0.0      4.0           8.3       146.0   \n",
       "45441         0   4.392389          0.0    101.0           5.2       145.0   \n",
       "\n",
       "                              title  cluster  \n",
       "0                         Toy Story        3  \n",
       "1                           Jumanji        1  \n",
       "2                  Grumpier Old Men        0  \n",
       "3                 Waiting to Exhale        0  \n",
       "4       Father of the Bride Part II        0  \n",
       "...                             ...      ...  \n",
       "45353    Frankenstein Created Woman        0  \n",
       "45373                       Take Me        0  \n",
       "45380  The Incredible Jessica James        0  \n",
       "45437                In a Heartbeat        4  \n",
       "45441                   Cadet Kelly        2  \n",
       "\n",
       "[12178 rows x 8 columns]"
      ]
     },
     "execution_count": 99,
     "metadata": {},
     "output_type": "execute_result"
    }
   ],
   "source": [
    "pickle.load(open('df_numeric.pk1', 'rb'))"
   ]
  },
  {
   "cell_type": "code",
   "execution_count": null,
   "id": "41fa9b1e-c6c8-43c9-9859-beea0e5621ed",
   "metadata": {},
   "outputs": [],
   "source": []
  },
  {
   "cell_type": "code",
   "execution_count": null,
   "id": "1e6531e1-dd8e-48a9-b72d-6ae6189eee47",
   "metadata": {},
   "outputs": [],
   "source": []
  },
  {
   "cell_type": "code",
   "execution_count": null,
   "id": "392064bc-2021-48ac-9280-74736c16179a",
   "metadata": {},
   "outputs": [],
   "source": []
  },
  {
   "cell_type": "code",
   "execution_count": null,
   "id": "7d1c6b67-85fa-4a4c-9ebc-560a4fb77324",
   "metadata": {},
   "outputs": [],
   "source": []
  },
  {
   "cell_type": "code",
   "execution_count": null,
   "id": "864f11ac-9ac4-474f-8150-983295eeab5a",
   "metadata": {},
   "outputs": [],
   "source": []
  },
  {
   "cell_type": "code",
   "execution_count": null,
   "id": "cec16d51-9e77-4dd0-9323-9275e89d2a1c",
   "metadata": {},
   "outputs": [],
   "source": []
  },
  {
   "cell_type": "code",
   "execution_count": null,
   "id": "1b9b56e3-ad32-4e79-9381-fc661e351181",
   "metadata": {},
   "outputs": [],
   "source": []
  },
  {
   "cell_type": "code",
   "execution_count": null,
   "id": "352d5301-ea34-4da9-b208-a332511f18a8",
   "metadata": {},
   "outputs": [],
   "source": []
  }
 ],
 "metadata": {
  "kernelspec": {
   "display_name": "Python 3 (ipykernel)",
   "language": "python",
   "name": "python3"
  },
  "language_info": {
   "codemirror_mode": {
    "name": "ipython",
    "version": 3
   },
   "file_extension": ".py",
   "mimetype": "text/x-python",
   "name": "python",
   "nbconvert_exporter": "python",
   "pygments_lexer": "ipython3",
   "version": "3.11.5"
  }
 },
 "nbformat": 4,
 "nbformat_minor": 5
}
